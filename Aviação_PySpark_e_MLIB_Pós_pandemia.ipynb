{
  "nbformat": 4,
  "nbformat_minor": 0,
  "metadata": {
    "colab": {
      "provenance": [],
      "include_colab_link": true
    },
    "kernelspec": {
      "name": "python3",
      "display_name": "Python 3"
    },
    "language_info": {
      "name": "python"
    }
  },
  "cells": [
    {
      "cell_type": "markdown",
      "metadata": {
        "id": "view-in-github",
        "colab_type": "text"
      },
      "source": [
        "<a href=\"https://colab.research.google.com/github/GTkaren/MachineLearning_BigData/blob/main/Avia%C3%A7%C3%A3o_PySpark_e_MLIB_P%C3%B3s_pandemia.ipynb\" target=\"_parent\"><img src=\"https://colab.research.google.com/assets/colab-badge.svg\" alt=\"Open In Colab\"/></a>"
      ]
    },
    {
      "cell_type": "markdown",
      "source": [
        "#**Estudo de caso com MLIB do PySpark**\n",
        "\n",
        "**prof: Sergio Assuncao Monteiro, DSc**\n",
        "\n",
        "lattes: http://lattes.cnpq.br/9489191035734025"
      ],
      "metadata": {
        "id": "eaBNqgMwGwyi"
      }
    },
    {
      "cell_type": "markdown",
      "source": [
        "# **Levantamento e preparação dos dados**"
      ],
      "metadata": {
        "id": "8dunzz_SRToa"
      }
    },
    {
      "cell_type": "markdown",
      "source": [
        "**Aquisição de Dados**"
      ],
      "metadata": {
        "id": "BiFSNFXxQ8vz"
      }
    },
    {
      "cell_type": "code",
      "source": [
        "!pip install yfinance --upgrade --no-cache-dir"
      ],
      "metadata": {
        "colab": {
          "base_uri": "https://localhost:8080/"
        },
        "id": "lL71JoaJRTCi",
        "outputId": "d90034cf-6a7f-4e91-cc03-176c297a82a1"
      },
      "execution_count": 1,
      "outputs": [
        {
          "output_type": "stream",
          "name": "stdout",
          "text": [
            "Requirement already satisfied: yfinance in /usr/local/lib/python3.10/dist-packages (0.2.28)\n",
            "Requirement already satisfied: pandas>=1.3.0 in /usr/local/lib/python3.10/dist-packages (from yfinance) (1.5.3)\n",
            "Requirement already satisfied: numpy>=1.16.5 in /usr/local/lib/python3.10/dist-packages (from yfinance) (1.23.5)\n",
            "Requirement already satisfied: requests>=2.31 in /usr/local/lib/python3.10/dist-packages (from yfinance) (2.31.0)\n",
            "Requirement already satisfied: multitasking>=0.0.7 in /usr/local/lib/python3.10/dist-packages (from yfinance) (0.0.11)\n",
            "Requirement already satisfied: lxml>=4.9.1 in /usr/local/lib/python3.10/dist-packages (from yfinance) (4.9.3)\n",
            "Requirement already satisfied: appdirs>=1.4.4 in /usr/local/lib/python3.10/dist-packages (from yfinance) (1.4.4)\n",
            "Requirement already satisfied: pytz>=2022.5 in /usr/local/lib/python3.10/dist-packages (from yfinance) (2023.3.post1)\n",
            "Requirement already satisfied: frozendict>=2.3.4 in /usr/local/lib/python3.10/dist-packages (from yfinance) (2.3.8)\n",
            "Requirement already satisfied: beautifulsoup4>=4.11.1 in /usr/local/lib/python3.10/dist-packages (from yfinance) (4.11.2)\n",
            "Requirement already satisfied: html5lib>=1.1 in /usr/local/lib/python3.10/dist-packages (from yfinance) (1.1)\n",
            "Requirement already satisfied: soupsieve>1.2 in /usr/local/lib/python3.10/dist-packages (from beautifulsoup4>=4.11.1->yfinance) (2.5)\n",
            "Requirement already satisfied: six>=1.9 in /usr/local/lib/python3.10/dist-packages (from html5lib>=1.1->yfinance) (1.16.0)\n",
            "Requirement already satisfied: webencodings in /usr/local/lib/python3.10/dist-packages (from html5lib>=1.1->yfinance) (0.5.1)\n",
            "Requirement already satisfied: python-dateutil>=2.8.1 in /usr/local/lib/python3.10/dist-packages (from pandas>=1.3.0->yfinance) (2.8.2)\n",
            "Requirement already satisfied: charset-normalizer<4,>=2 in /usr/local/lib/python3.10/dist-packages (from requests>=2.31->yfinance) (3.2.0)\n",
            "Requirement already satisfied: idna<4,>=2.5 in /usr/local/lib/python3.10/dist-packages (from requests>=2.31->yfinance) (3.4)\n",
            "Requirement already satisfied: urllib3<3,>=1.21.1 in /usr/local/lib/python3.10/dist-packages (from requests>=2.31->yfinance) (2.0.4)\n",
            "Requirement already satisfied: certifi>=2017.4.17 in /usr/local/lib/python3.10/dist-packages (from requests>=2.31->yfinance) (2023.7.22)\n"
          ]
        }
      ]
    },
    {
      "cell_type": "markdown",
      "source": [
        "**Importar Bibliotecas**"
      ],
      "metadata": {
        "id": "4z7e5JSQRdny"
      }
    },
    {
      "cell_type": "code",
      "source": [
        "import pandas as pd\n",
        "import numpy as np\n",
        "import yfinance as yf #Instalando e importando a API no código\n",
        "import matplotlib.pyplot as plt\n"
      ],
      "metadata": {
        "id": "CEA5Zw_oRhx6"
      },
      "execution_count": 2,
      "outputs": []
    },
    {
      "cell_type": "code",
      "source": [
        "codigo = ['EMBR3.SA', 'AALL34.SA', 'AZUL4.SA', 'LTM.SN', 'GOLL4.SA', 'LTMAY', 'AF.PA', 'C6L.SI', 'SIA1.MU', 'SIA1.SG', 'SIA1.F','AFP.XC', '003490.KS', '003495.KS', 'BCO.DE', 'BCO.F', 'AIR.PA', 'AIR.DE', 'AIRA.SG', 'ADH2.SG']"
      ],
      "metadata": {
        "id": "LAkRWYmlSreJ"
      },
      "execution_count": 3,
      "outputs": []
    },
    {
      "cell_type": "code",
      "source": [
        "#codigo = ['EMBR3.SA', 'AALL34.SA', 'AZUL4.SA', 'LTM.SN', 'GOLL4.SA', 'LTMAY', 'AF.PA', 'C6L.SI', 'SIA1.MU', 'SIA1.SG', 'SIA1.F','AFP.XC', '003490.KS', '003495.KS', 'BCO.DE', 'BCO.F', 'AIR.PA', 'AIR.DE', 'AIRA.SG', 'ADH2.SG']"
      ],
      "metadata": {
        "id": "Dk7n3BkZWdjM"
      },
      "execution_count": null,
      "outputs": []
    },
    {
      "cell_type": "code",
      "source": [
        "data_inicio = '2021-01-15'\n",
        "data_fim    = '2022-01-01'\n",
        "\n",
        "df_ativos = yf.download(codigo,\n",
        "                        start = data_inicio,\n",
        "                        end   = data_fim,\n",
        "                        group_by=\"ticker\"); # \";\" serve para não exibir os dados"
      ],
      "metadata": {
        "colab": {
          "base_uri": "https://localhost:8080/"
        },
        "id": "JOOFj-IURmyq",
        "outputId": "22fe79c2-4fe7-4d2d-8a39-71f0d33dead4"
      },
      "execution_count": 4,
      "outputs": [
        {
          "output_type": "stream",
          "name": "stdout",
          "text": [
            "[*********************100%%**********************]  20 of 20 completed\n"
          ]
        }
      ]
    },
    {
      "cell_type": "markdown",
      "source": [
        "**Visualização dos dados**"
      ],
      "metadata": {
        "id": "RaAkoe99SmNe"
      }
    },
    {
      "cell_type": "code",
      "source": [
        "with pd.option_context('display.max_rows',4):\n",
        "  print(df_ativos)"
      ],
      "metadata": {
        "colab": {
          "base_uri": "https://localhost:8080/"
        },
        "id": "J7rI75v-Sh05",
        "outputId": "338cb089-81d5-4c7b-f479-e57136a298e7"
      },
      "execution_count": 5,
      "outputs": [
        {
          "output_type": "stream",
          "name": "stdout",
          "text": [
            "           GOLL4.SA                                                     \\\n",
            "               Open       High    Low      Close  Adj Close     Volume   \n",
            "Date                                                                     \n",
            "2021-01-15    23.75  24.139999  23.24  23.549999  23.549999  7255600.0   \n",
            "2021-01-18    24.01  24.940001  23.58  23.790001  23.790001  8911200.0   \n",
            "...             ...        ...    ...        ...        ...        ...   \n",
            "2021-12-30    16.98  17.320000  16.82  17.030001  17.030001  5503900.0   \n",
            "2021-12-31      NaN        NaN    NaN        NaN        NaN        NaN   \n",
            "\n",
            "           SIA1.MU                    ... ADH2.SG                           \\\n",
            "              Open  High   Low Close  ...     Low   Close Adj Close Volume   \n",
            "Date                                  ...                                    \n",
            "2021-01-15    2.68  2.68  2.68  2.68  ...  14.900  15.000    15.000  400.0   \n",
            "2021-01-18    2.68  2.68  2.68  2.68  ...  14.500  14.900    14.900    0.0   \n",
            "...            ...   ...   ...   ...  ...     ...     ...       ...    ...   \n",
            "2021-12-30    3.24  3.24  3.24  3.24  ...  14.624  14.624    14.624    0.0   \n",
            "2021-12-31     NaN   NaN   NaN   NaN  ...     NaN     NaN       NaN    NaN   \n",
            "\n",
            "           LTMAY                                        \n",
            "            Open  High   Low Close Adj Close    Volume  \n",
            "Date                                                    \n",
            "2021-01-15  1.60  1.69  1.56  1.64      1.64  501300.0  \n",
            "2021-01-18   NaN   NaN   NaN   NaN       NaN       NaN  \n",
            "...          ...   ...   ...   ...       ...       ...  \n",
            "2021-12-30  0.45  0.45  0.40  0.43      0.43  404300.0  \n",
            "2021-12-31  0.42  0.45  0.41  0.41      0.41  562500.0  \n",
            "\n",
            "[251 rows x 120 columns]\n"
          ]
        }
      ]
    },
    {
      "cell_type": "code",
      "source": [
        "df_ativos.describe()"
      ],
      "metadata": {
        "colab": {
          "base_uri": "https://localhost:8080/",
          "height": 381
        },
        "id": "wSlFegGsWaws",
        "outputId": "d01a0cfb-103f-4fbb-8ded-e37d3827703d"
      },
      "execution_count": 6,
      "outputs": [
        {
          "output_type": "execute_result",
          "data": {
            "text/plain": [
              "         GOLL4.SA                                                  \\\n",
              "             Open        High         Low       Close   Adj Close   \n",
              "count  238.000000  238.000000  238.000000  238.000000  238.000000   \n",
              "mean    21.366849   21.832017   20.882185   21.312941   21.312941   \n",
              "std      3.067521    3.029835    3.039519    3.042132    3.042132   \n",
              "min     15.010000   15.210000   14.580000   14.800000   14.800000   \n",
              "25%     19.210000   19.742500   18.777500   19.062500   19.062500   \n",
              "50%     21.260000   21.795000   20.875000   21.420000   21.420000   \n",
              "75%     23.640000   24.147500   23.130000   23.600000   23.600000   \n",
              "max     27.980000   28.750000   27.120001   27.590000   27.590000   \n",
              "\n",
              "                        SIA1.MU                                      ...  \\\n",
              "             Volume        Open        High         Low       Close  ...   \n",
              "count  2.380000e+02  246.000000  246.000000  246.000000  246.000000  ...   \n",
              "mean   6.997192e+06    3.161504    3.165244    3.158902    3.162642  ...   \n",
              "std    3.016808e+06    0.232064    0.230819    0.232837    0.231638  ...   \n",
              "min    2.195500e+06    2.580000    2.580000    2.580000    2.580000  ...   \n",
              "25%    5.148375e+06    3.080000    3.080000    3.080000    3.080000  ...   \n",
              "50%    6.373350e+06    3.170000    3.170000    3.170000    3.170000  ...   \n",
              "75%    7.925725e+06    3.315000    3.320000    3.295000    3.315000  ...   \n",
              "max    2.459280e+07    3.520000    3.520000    3.520000    3.520000  ...   \n",
              "\n",
              "          ADH2.SG                                            LTMAY  \\\n",
              "              Low       Close   Adj Close       Volume        Open   \n",
              "count  246.000000  246.000000  246.000000   246.000000  243.000000   \n",
              "mean    16.311650   16.482000   16.482000   195.666667    1.873169   \n",
              "std      1.490734    1.481738    1.481738   609.623948    0.615818   \n",
              "min     12.400000   12.800000   12.800000     0.000000    0.370000   \n",
              "25%     15.397000   15.594000   15.594000     0.000000    1.615000   \n",
              "50%     16.326000   16.550000   16.550000     0.000000    1.760000   \n",
              "75%     17.374000   17.535500   17.535500    83.000000    2.350000   \n",
              "max     19.600000   20.000000   20.000000  4988.000000    3.010000   \n",
              "\n",
              "                                                                     \n",
              "             High         Low       Close   Adj Close        Volume  \n",
              "count  243.000000  243.000000  243.000000  243.000000  2.430000e+02  \n",
              "mean     1.933045    1.809794    1.871481    1.871481  6.982457e+05  \n",
              "std      0.627579    0.605877    0.616098    0.616098  1.190809e+06  \n",
              "min      0.380000    0.280000    0.320000    0.320000  3.430000e+04  \n",
              "25%      1.680000    1.580000    1.635000    1.635000  1.851000e+05  \n",
              "50%      1.810000    1.720000    1.760000    1.760000  3.511000e+05  \n",
              "75%      2.450000    2.300000    2.385000    2.385000  6.888000e+05  \n",
              "max      3.050000    2.900000    3.000000    3.000000  1.065460e+07  \n",
              "\n",
              "[8 rows x 120 columns]"
            ],
            "text/html": [
              "\n",
              "  <div id=\"df-9c083dc3-4259-4d8f-bd87-5b80e9a48410\" class=\"colab-df-container\">\n",
              "    <div>\n",
              "<style scoped>\n",
              "    .dataframe tbody tr th:only-of-type {\n",
              "        vertical-align: middle;\n",
              "    }\n",
              "\n",
              "    .dataframe tbody tr th {\n",
              "        vertical-align: top;\n",
              "    }\n",
              "\n",
              "    .dataframe thead tr th {\n",
              "        text-align: left;\n",
              "    }\n",
              "</style>\n",
              "<table border=\"1\" class=\"dataframe\">\n",
              "  <thead>\n",
              "    <tr>\n",
              "      <th></th>\n",
              "      <th colspan=\"6\" halign=\"left\">GOLL4.SA</th>\n",
              "      <th colspan=\"4\" halign=\"left\">SIA1.MU</th>\n",
              "      <th>...</th>\n",
              "      <th colspan=\"4\" halign=\"left\">ADH2.SG</th>\n",
              "      <th colspan=\"6\" halign=\"left\">LTMAY</th>\n",
              "    </tr>\n",
              "    <tr>\n",
              "      <th></th>\n",
              "      <th>Open</th>\n",
              "      <th>High</th>\n",
              "      <th>Low</th>\n",
              "      <th>Close</th>\n",
              "      <th>Adj Close</th>\n",
              "      <th>Volume</th>\n",
              "      <th>Open</th>\n",
              "      <th>High</th>\n",
              "      <th>Low</th>\n",
              "      <th>Close</th>\n",
              "      <th>...</th>\n",
              "      <th>Low</th>\n",
              "      <th>Close</th>\n",
              "      <th>Adj Close</th>\n",
              "      <th>Volume</th>\n",
              "      <th>Open</th>\n",
              "      <th>High</th>\n",
              "      <th>Low</th>\n",
              "      <th>Close</th>\n",
              "      <th>Adj Close</th>\n",
              "      <th>Volume</th>\n",
              "    </tr>\n",
              "  </thead>\n",
              "  <tbody>\n",
              "    <tr>\n",
              "      <th>count</th>\n",
              "      <td>238.000000</td>\n",
              "      <td>238.000000</td>\n",
              "      <td>238.000000</td>\n",
              "      <td>238.000000</td>\n",
              "      <td>238.000000</td>\n",
              "      <td>2.380000e+02</td>\n",
              "      <td>246.000000</td>\n",
              "      <td>246.000000</td>\n",
              "      <td>246.000000</td>\n",
              "      <td>246.000000</td>\n",
              "      <td>...</td>\n",
              "      <td>246.000000</td>\n",
              "      <td>246.000000</td>\n",
              "      <td>246.000000</td>\n",
              "      <td>246.000000</td>\n",
              "      <td>243.000000</td>\n",
              "      <td>243.000000</td>\n",
              "      <td>243.000000</td>\n",
              "      <td>243.000000</td>\n",
              "      <td>243.000000</td>\n",
              "      <td>2.430000e+02</td>\n",
              "    </tr>\n",
              "    <tr>\n",
              "      <th>mean</th>\n",
              "      <td>21.366849</td>\n",
              "      <td>21.832017</td>\n",
              "      <td>20.882185</td>\n",
              "      <td>21.312941</td>\n",
              "      <td>21.312941</td>\n",
              "      <td>6.997192e+06</td>\n",
              "      <td>3.161504</td>\n",
              "      <td>3.165244</td>\n",
              "      <td>3.158902</td>\n",
              "      <td>3.162642</td>\n",
              "      <td>...</td>\n",
              "      <td>16.311650</td>\n",
              "      <td>16.482000</td>\n",
              "      <td>16.482000</td>\n",
              "      <td>195.666667</td>\n",
              "      <td>1.873169</td>\n",
              "      <td>1.933045</td>\n",
              "      <td>1.809794</td>\n",
              "      <td>1.871481</td>\n",
              "      <td>1.871481</td>\n",
              "      <td>6.982457e+05</td>\n",
              "    </tr>\n",
              "    <tr>\n",
              "      <th>std</th>\n",
              "      <td>3.067521</td>\n",
              "      <td>3.029835</td>\n",
              "      <td>3.039519</td>\n",
              "      <td>3.042132</td>\n",
              "      <td>3.042132</td>\n",
              "      <td>3.016808e+06</td>\n",
              "      <td>0.232064</td>\n",
              "      <td>0.230819</td>\n",
              "      <td>0.232837</td>\n",
              "      <td>0.231638</td>\n",
              "      <td>...</td>\n",
              "      <td>1.490734</td>\n",
              "      <td>1.481738</td>\n",
              "      <td>1.481738</td>\n",
              "      <td>609.623948</td>\n",
              "      <td>0.615818</td>\n",
              "      <td>0.627579</td>\n",
              "      <td>0.605877</td>\n",
              "      <td>0.616098</td>\n",
              "      <td>0.616098</td>\n",
              "      <td>1.190809e+06</td>\n",
              "    </tr>\n",
              "    <tr>\n",
              "      <th>min</th>\n",
              "      <td>15.010000</td>\n",
              "      <td>15.210000</td>\n",
              "      <td>14.580000</td>\n",
              "      <td>14.800000</td>\n",
              "      <td>14.800000</td>\n",
              "      <td>2.195500e+06</td>\n",
              "      <td>2.580000</td>\n",
              "      <td>2.580000</td>\n",
              "      <td>2.580000</td>\n",
              "      <td>2.580000</td>\n",
              "      <td>...</td>\n",
              "      <td>12.400000</td>\n",
              "      <td>12.800000</td>\n",
              "      <td>12.800000</td>\n",
              "      <td>0.000000</td>\n",
              "      <td>0.370000</td>\n",
              "      <td>0.380000</td>\n",
              "      <td>0.280000</td>\n",
              "      <td>0.320000</td>\n",
              "      <td>0.320000</td>\n",
              "      <td>3.430000e+04</td>\n",
              "    </tr>\n",
              "    <tr>\n",
              "      <th>25%</th>\n",
              "      <td>19.210000</td>\n",
              "      <td>19.742500</td>\n",
              "      <td>18.777500</td>\n",
              "      <td>19.062500</td>\n",
              "      <td>19.062500</td>\n",
              "      <td>5.148375e+06</td>\n",
              "      <td>3.080000</td>\n",
              "      <td>3.080000</td>\n",
              "      <td>3.080000</td>\n",
              "      <td>3.080000</td>\n",
              "      <td>...</td>\n",
              "      <td>15.397000</td>\n",
              "      <td>15.594000</td>\n",
              "      <td>15.594000</td>\n",
              "      <td>0.000000</td>\n",
              "      <td>1.615000</td>\n",
              "      <td>1.680000</td>\n",
              "      <td>1.580000</td>\n",
              "      <td>1.635000</td>\n",
              "      <td>1.635000</td>\n",
              "      <td>1.851000e+05</td>\n",
              "    </tr>\n",
              "    <tr>\n",
              "      <th>50%</th>\n",
              "      <td>21.260000</td>\n",
              "      <td>21.795000</td>\n",
              "      <td>20.875000</td>\n",
              "      <td>21.420000</td>\n",
              "      <td>21.420000</td>\n",
              "      <td>6.373350e+06</td>\n",
              "      <td>3.170000</td>\n",
              "      <td>3.170000</td>\n",
              "      <td>3.170000</td>\n",
              "      <td>3.170000</td>\n",
              "      <td>...</td>\n",
              "      <td>16.326000</td>\n",
              "      <td>16.550000</td>\n",
              "      <td>16.550000</td>\n",
              "      <td>0.000000</td>\n",
              "      <td>1.760000</td>\n",
              "      <td>1.810000</td>\n",
              "      <td>1.720000</td>\n",
              "      <td>1.760000</td>\n",
              "      <td>1.760000</td>\n",
              "      <td>3.511000e+05</td>\n",
              "    </tr>\n",
              "    <tr>\n",
              "      <th>75%</th>\n",
              "      <td>23.640000</td>\n",
              "      <td>24.147500</td>\n",
              "      <td>23.130000</td>\n",
              "      <td>23.600000</td>\n",
              "      <td>23.600000</td>\n",
              "      <td>7.925725e+06</td>\n",
              "      <td>3.315000</td>\n",
              "      <td>3.320000</td>\n",
              "      <td>3.295000</td>\n",
              "      <td>3.315000</td>\n",
              "      <td>...</td>\n",
              "      <td>17.374000</td>\n",
              "      <td>17.535500</td>\n",
              "      <td>17.535500</td>\n",
              "      <td>83.000000</td>\n",
              "      <td>2.350000</td>\n",
              "      <td>2.450000</td>\n",
              "      <td>2.300000</td>\n",
              "      <td>2.385000</td>\n",
              "      <td>2.385000</td>\n",
              "      <td>6.888000e+05</td>\n",
              "    </tr>\n",
              "    <tr>\n",
              "      <th>max</th>\n",
              "      <td>27.980000</td>\n",
              "      <td>28.750000</td>\n",
              "      <td>27.120001</td>\n",
              "      <td>27.590000</td>\n",
              "      <td>27.590000</td>\n",
              "      <td>2.459280e+07</td>\n",
              "      <td>3.520000</td>\n",
              "      <td>3.520000</td>\n",
              "      <td>3.520000</td>\n",
              "      <td>3.520000</td>\n",
              "      <td>...</td>\n",
              "      <td>19.600000</td>\n",
              "      <td>20.000000</td>\n",
              "      <td>20.000000</td>\n",
              "      <td>4988.000000</td>\n",
              "      <td>3.010000</td>\n",
              "      <td>3.050000</td>\n",
              "      <td>2.900000</td>\n",
              "      <td>3.000000</td>\n",
              "      <td>3.000000</td>\n",
              "      <td>1.065460e+07</td>\n",
              "    </tr>\n",
              "  </tbody>\n",
              "</table>\n",
              "<p>8 rows × 120 columns</p>\n",
              "</div>\n",
              "    <div class=\"colab-df-buttons\">\n",
              "\n",
              "  <div class=\"colab-df-container\">\n",
              "    <button class=\"colab-df-convert\" onclick=\"convertToInteractive('df-9c083dc3-4259-4d8f-bd87-5b80e9a48410')\"\n",
              "            title=\"Convert this dataframe to an interactive table.\"\n",
              "            style=\"display:none;\">\n",
              "\n",
              "  <svg xmlns=\"http://www.w3.org/2000/svg\" height=\"24px\" viewBox=\"0 -960 960 960\">\n",
              "    <path d=\"M120-120v-720h720v720H120Zm60-500h600v-160H180v160Zm220 220h160v-160H400v160Zm0 220h160v-160H400v160ZM180-400h160v-160H180v160Zm440 0h160v-160H620v160ZM180-180h160v-160H180v160Zm440 0h160v-160H620v160Z\"/>\n",
              "  </svg>\n",
              "    </button>\n",
              "\n",
              "  <style>\n",
              "    .colab-df-container {\n",
              "      display:flex;\n",
              "      gap: 12px;\n",
              "    }\n",
              "\n",
              "    .colab-df-convert {\n",
              "      background-color: #E8F0FE;\n",
              "      border: none;\n",
              "      border-radius: 50%;\n",
              "      cursor: pointer;\n",
              "      display: none;\n",
              "      fill: #1967D2;\n",
              "      height: 32px;\n",
              "      padding: 0 0 0 0;\n",
              "      width: 32px;\n",
              "    }\n",
              "\n",
              "    .colab-df-convert:hover {\n",
              "      background-color: #E2EBFA;\n",
              "      box-shadow: 0px 1px 2px rgba(60, 64, 67, 0.3), 0px 1px 3px 1px rgba(60, 64, 67, 0.15);\n",
              "      fill: #174EA6;\n",
              "    }\n",
              "\n",
              "    .colab-df-buttons div {\n",
              "      margin-bottom: 4px;\n",
              "    }\n",
              "\n",
              "    [theme=dark] .colab-df-convert {\n",
              "      background-color: #3B4455;\n",
              "      fill: #D2E3FC;\n",
              "    }\n",
              "\n",
              "    [theme=dark] .colab-df-convert:hover {\n",
              "      background-color: #434B5C;\n",
              "      box-shadow: 0px 1px 3px 1px rgba(0, 0, 0, 0.15);\n",
              "      filter: drop-shadow(0px 1px 2px rgba(0, 0, 0, 0.3));\n",
              "      fill: #FFFFFF;\n",
              "    }\n",
              "  </style>\n",
              "\n",
              "    <script>\n",
              "      const buttonEl =\n",
              "        document.querySelector('#df-9c083dc3-4259-4d8f-bd87-5b80e9a48410 button.colab-df-convert');\n",
              "      buttonEl.style.display =\n",
              "        google.colab.kernel.accessAllowed ? 'block' : 'none';\n",
              "\n",
              "      async function convertToInteractive(key) {\n",
              "        const element = document.querySelector('#df-9c083dc3-4259-4d8f-bd87-5b80e9a48410');\n",
              "        const dataTable =\n",
              "          await google.colab.kernel.invokeFunction('convertToInteractive',\n",
              "                                                    [key], {});\n",
              "        if (!dataTable) return;\n",
              "\n",
              "        const docLinkHtml = 'Like what you see? Visit the ' +\n",
              "          '<a target=\"_blank\" href=https://colab.research.google.com/notebooks/data_table.ipynb>data table notebook</a>'\n",
              "          + ' to learn more about interactive tables.';\n",
              "        element.innerHTML = '';\n",
              "        dataTable['output_type'] = 'display_data';\n",
              "        await google.colab.output.renderOutput(dataTable, element);\n",
              "        const docLink = document.createElement('div');\n",
              "        docLink.innerHTML = docLinkHtml;\n",
              "        element.appendChild(docLink);\n",
              "      }\n",
              "    </script>\n",
              "  </div>\n",
              "\n",
              "\n",
              "<div id=\"df-7f7423c2-818e-4038-aaf8-e84960c46c84\">\n",
              "  <button class=\"colab-df-quickchart\" onclick=\"quickchart('df-7f7423c2-818e-4038-aaf8-e84960c46c84')\"\n",
              "            title=\"Suggest charts.\"\n",
              "            style=\"display:none;\">\n",
              "\n",
              "<svg xmlns=\"http://www.w3.org/2000/svg\" height=\"24px\"viewBox=\"0 0 24 24\"\n",
              "     width=\"24px\">\n",
              "    <g>\n",
              "        <path d=\"M19 3H5c-1.1 0-2 .9-2 2v14c0 1.1.9 2 2 2h14c1.1 0 2-.9 2-2V5c0-1.1-.9-2-2-2zM9 17H7v-7h2v7zm4 0h-2V7h2v10zm4 0h-2v-4h2v4z\"/>\n",
              "    </g>\n",
              "</svg>\n",
              "  </button>\n",
              "\n",
              "<style>\n",
              "  .colab-df-quickchart {\n",
              "      --bg-color: #E8F0FE;\n",
              "      --fill-color: #1967D2;\n",
              "      --hover-bg-color: #E2EBFA;\n",
              "      --hover-fill-color: #174EA6;\n",
              "      --disabled-fill-color: #AAA;\n",
              "      --disabled-bg-color: #DDD;\n",
              "  }\n",
              "\n",
              "  [theme=dark] .colab-df-quickchart {\n",
              "      --bg-color: #3B4455;\n",
              "      --fill-color: #D2E3FC;\n",
              "      --hover-bg-color: #434B5C;\n",
              "      --hover-fill-color: #FFFFFF;\n",
              "      --disabled-bg-color: #3B4455;\n",
              "      --disabled-fill-color: #666;\n",
              "  }\n",
              "\n",
              "  .colab-df-quickchart {\n",
              "    background-color: var(--bg-color);\n",
              "    border: none;\n",
              "    border-radius: 50%;\n",
              "    cursor: pointer;\n",
              "    display: none;\n",
              "    fill: var(--fill-color);\n",
              "    height: 32px;\n",
              "    padding: 0;\n",
              "    width: 32px;\n",
              "  }\n",
              "\n",
              "  .colab-df-quickchart:hover {\n",
              "    background-color: var(--hover-bg-color);\n",
              "    box-shadow: 0 1px 2px rgba(60, 64, 67, 0.3), 0 1px 3px 1px rgba(60, 64, 67, 0.15);\n",
              "    fill: var(--button-hover-fill-color);\n",
              "  }\n",
              "\n",
              "  .colab-df-quickchart-complete:disabled,\n",
              "  .colab-df-quickchart-complete:disabled:hover {\n",
              "    background-color: var(--disabled-bg-color);\n",
              "    fill: var(--disabled-fill-color);\n",
              "    box-shadow: none;\n",
              "  }\n",
              "\n",
              "  .colab-df-spinner {\n",
              "    border: 2px solid var(--fill-color);\n",
              "    border-color: transparent;\n",
              "    border-bottom-color: var(--fill-color);\n",
              "    animation:\n",
              "      spin 1s steps(1) infinite;\n",
              "  }\n",
              "\n",
              "  @keyframes spin {\n",
              "    0% {\n",
              "      border-color: transparent;\n",
              "      border-bottom-color: var(--fill-color);\n",
              "      border-left-color: var(--fill-color);\n",
              "    }\n",
              "    20% {\n",
              "      border-color: transparent;\n",
              "      border-left-color: var(--fill-color);\n",
              "      border-top-color: var(--fill-color);\n",
              "    }\n",
              "    30% {\n",
              "      border-color: transparent;\n",
              "      border-left-color: var(--fill-color);\n",
              "      border-top-color: var(--fill-color);\n",
              "      border-right-color: var(--fill-color);\n",
              "    }\n",
              "    40% {\n",
              "      border-color: transparent;\n",
              "      border-right-color: var(--fill-color);\n",
              "      border-top-color: var(--fill-color);\n",
              "    }\n",
              "    60% {\n",
              "      border-color: transparent;\n",
              "      border-right-color: var(--fill-color);\n",
              "    }\n",
              "    80% {\n",
              "      border-color: transparent;\n",
              "      border-right-color: var(--fill-color);\n",
              "      border-bottom-color: var(--fill-color);\n",
              "    }\n",
              "    90% {\n",
              "      border-color: transparent;\n",
              "      border-bottom-color: var(--fill-color);\n",
              "    }\n",
              "  }\n",
              "</style>\n",
              "\n",
              "  <script>\n",
              "    async function quickchart(key) {\n",
              "      const quickchartButtonEl =\n",
              "        document.querySelector('#' + key + ' button');\n",
              "      quickchartButtonEl.disabled = true;  // To prevent multiple clicks.\n",
              "      quickchartButtonEl.classList.add('colab-df-spinner');\n",
              "      try {\n",
              "        const charts = await google.colab.kernel.invokeFunction(\n",
              "            'suggestCharts', [key], {});\n",
              "      } catch (error) {\n",
              "        console.error('Error during call to suggestCharts:', error);\n",
              "      }\n",
              "      quickchartButtonEl.classList.remove('colab-df-spinner');\n",
              "      quickchartButtonEl.classList.add('colab-df-quickchart-complete');\n",
              "    }\n",
              "    (() => {\n",
              "      let quickchartButtonEl =\n",
              "        document.querySelector('#df-7f7423c2-818e-4038-aaf8-e84960c46c84 button');\n",
              "      quickchartButtonEl.style.display =\n",
              "        google.colab.kernel.accessAllowed ? 'block' : 'none';\n",
              "    })();\n",
              "  </script>\n",
              "</div>\n",
              "    </div>\n",
              "  </div>\n"
            ]
          },
          "metadata": {},
          "execution_count": 6
        }
      ]
    },
    {
      "cell_type": "code",
      "source": [
        "n=len(codigo)\n",
        "n"
      ],
      "metadata": {
        "colab": {
          "base_uri": "https://localhost:8080/"
        },
        "id": "QPzccVYKgZ0R",
        "outputId": "064769de-ca40-43f7-fad5-690cf3866180"
      },
      "execution_count": null,
      "outputs": [
        {
          "output_type": "execute_result",
          "data": {
            "text/plain": [
              "20"
            ]
          },
          "metadata": {},
          "execution_count": 7
        }
      ]
    },
    {
      "cell_type": "code",
      "source": [
        "def avaliar_desempenho(valor):\n",
        "    if valor < 0:\n",
        "        return 'ruim'\n",
        "    elif valor < 10:\n",
        "        return 'razoavel'\n",
        "    elif valor < 15:\n",
        "        return 'bom'\n",
        "    else:\n",
        "        return 'excelente'"
      ],
      "metadata": {
        "id": "4a30LPLulUna"
      },
      "execution_count": 7,
      "outputs": []
    },
    {
      "cell_type": "code",
      "source": [
        "data_inicio = '2021-01-15'\n",
        "data_fim    = '2021-12-01'\n",
        "dados=[]\n",
        "for nome in codigo:\n",
        "  coluna=df_ativos[nome,'Adj Close']\n",
        "  media = coluna.mean()\n",
        "  desvio_padrao = coluna.std()\n",
        "  valor_inicio = coluna[data_inicio]\n",
        "  valor_final = coluna[data_fim]\n",
        "  retorno = ((valor_final-valor_inicio)/valor_inicio)*100\n",
        "  avaliacao = avaliar_desempenho(retorno)\n",
        "  registro = {'nome':nome,\n",
        "              'media':media,\n",
        "              'desvio padrao':desvio_padrao,\n",
        "              'retorno':retorno,\n",
        "              'avaliacao': avaliacao}\n",
        "  dados.append(registro)\n",
        "  print(f'ativo = {nome}; media = {media}; desvio padrão = {desvio_padrao}; ')\n",
        "  print(f'valor inicial = {valor_inicio}; valor final = {valor_final}')\n",
        "  print(f'retorno = {retorno:.2f}%')\n",
        "  print(f'avaliacao = {avaliacao}')\n",
        "df_ativos_transformados = pd.DataFrame(dados)"
      ],
      "metadata": {
        "colab": {
          "base_uri": "https://localhost:8080/"
        },
        "id": "CYTxDnmaWpCb",
        "outputId": "fc9358f5-ddc2-46c9-c861-2d0955b1579a"
      },
      "execution_count": 10,
      "outputs": [
        {
          "output_type": "stream",
          "name": "stdout",
          "text": [
            "ativo = EMBR3.SA; media = 18.15512604272666; desvio padrão = 4.386199455888439; \n",
            "valor inicial = 9.520000457763672; valor final = 18.299999237060547\n",
            "retorno = 92.23%\n",
            "avaliacao = excelente\n",
            "ativo = AALL34.SA; media = 110.72512637867646; desvio padrão = 12.052433162183076; \n",
            "valor inicial = 83.66000366210938; valor final = 92.7699966430664\n",
            "retorno = 10.89%\n",
            "avaliacao = bom\n",
            "ativo = AZUL4.SA; media = 37.02033601488386; desvio padrão = 6.393181304222187; \n",
            "valor inicial = 37.41999816894531; valor final = 21.860000610351562\n",
            "retorno = -41.58%\n",
            "avaliacao = ruim\n",
            "ativo = LTM.SN; media = 1392.424313493784; desvio padrão = 458.6794464119738; \n",
            "valor inicial = 1214.5; valor final = 210.94000244140625\n",
            "retorno = -82.63%\n",
            "avaliacao = ruim\n",
            "ativo = GOLL4.SA; media = 21.312941230645702; desvio padrão = 3.0421317028192933; \n",
            "valor inicial = 23.549999237060547; valor final = 14.800000190734863\n",
            "retorno = -37.15%\n",
            "avaliacao = ruim\n",
            "ativo = LTMAY; media = 1.8714814751481814; desvio padrão = 0.6160976401530657; \n",
            "valor inicial = 1.6399999856948853; valor final = 0.3199999928474426\n",
            "retorno = -80.49%\n",
            "avaliacao = ruim\n",
            "ativo = AF.PA; media = 22.30827187534317; desvio padrão = 2.488419113170228; \n",
            "valor inicial = 25.64103889465332; valor final = 19.155126571655273\n",
            "retorno = -25.30%\n",
            "avaliacao = ruim\n",
            "ativo = C6L.SI; media = 4.747565513751546; desvio padrão = 0.33300535881720883; \n",
            "valor inicial = 4.150738716125488; valor final = 4.557303428649902\n",
            "retorno = 9.79%\n",
            "avaliacao = razoavel\n",
            "ativo = SIA1.MU; media = 2.9136019373327735; desvio padrão = 0.21339798147227065; \n",
            "valor inicial = 2.4689650535583496; valor final = 2.9019551277160645\n",
            "retorno = 17.54%\n",
            "avaliacao = excelente\n",
            "ativo = SIA1.SG; media = 2.8819013213723657; desvio padrão = 0.22060353757246168; \n",
            "valor inicial = 2.3933210372924805; valor final = 2.8627800941467285\n",
            "retorno = 19.62%\n",
            "avaliacao = excelente\n",
            "ativo = SIA1.F; media = 2.90190155816272; desvio padrão = 0.22130895668101666; \n",
            "valor inicial = 2.3948802947998047; valor final = 2.8462231159210205\n",
            "retorno = 18.85%\n",
            "avaliacao = excelente\n",
            "ativo = AFP.XC; media = 44.39436452896869; desvio padrão = 5.24834828856363; \n",
            "valor inicial = 51.13999938964844; valor final = 36.689998626708984\n",
            "retorno = -28.26%\n",
            "avaliacao = ruim\n",
            "ativo = 003490.KS; media = 28849.445353360356; desvio padrão = 1995.6768720795073; \n",
            "valor inicial = 24908.525390625; valor final = 26550.826171875\n",
            "retorno = 6.59%\n",
            "avaliacao = razoavel\n",
            "ativo = 003495.KS; media = 39355.82202863494; desvio padrão = 2164.7351374295654; \n",
            "valor inicial = 42638.890625; valor final = 35280.63671875\n",
            "retorno = -17.26%\n",
            "avaliacao = ruim\n",
            "ativo = BCO.DE; media = 190.45695154453682; desvio padrão = 12.861335079410553; \n",
            "valor inicial = 170.89999389648438; valor final = 174.33999633789062\n",
            "retorno = 2.01%\n",
            "avaliacao = razoavel\n",
            "ativo = BCO.F; media = 190.27215390089083; desvio padrão = 12.96604259758675; \n",
            "valor inicial = 170.9199981689453; valor final = 167.67999267578125\n",
            "retorno = -1.90%\n",
            "avaliacao = ruim\n",
            "ativo = AIR.PA; media = 102.90571753567002; desvio padrão = 8.283012893026786; \n",
            "valor inicial = 89.96112823486328; valor final = 99.06901550292969\n",
            "retorno = 10.12%\n",
            "avaliacao = bom\n",
            "ativo = AIR.DE; media = 102.85360751888616; desvio padrão = 8.305869149492679; \n",
            "valor inicial = 89.90565490722656; valor final = 99.0420150756836\n",
            "retorno = 10.16%\n",
            "avaliacao = bom\n",
            "ativo = AIRA.SG; media = 25.457639771748365; desvio padrão = 2.056770508040427; \n",
            "valor inicial = 22.668041229248047; valor final = 24.217994689941406\n",
            "retorno = 6.84%\n",
            "avaliacao = razoavel\n",
            "ativo = ADH2.SG; media = 16.481999982663286; desvio padrão = 1.4817375887138828; \n",
            "valor inicial = 15.0; valor final = 14.161999702453613\n",
            "retorno = -5.59%\n",
            "avaliacao = ruim\n"
          ]
        }
      ]
    },
    {
      "cell_type": "code",
      "source": [
        "df_ativos_transformados"
      ],
      "metadata": {
        "colab": {
          "base_uri": "https://localhost:8080/",
          "height": 677
        },
        "id": "0lz1hAPSaV0Y",
        "outputId": "570b0ca7-b9a1-4cbc-f872-3254387dab00"
      },
      "execution_count": 11,
      "outputs": [
        {
          "output_type": "execute_result",
          "data": {
            "text/plain": [
              "         nome         media  desvio padrao    retorno  avaliacao\n",
              "0    EMBR3.SA     18.155126       4.386199  92.226873  excelente\n",
              "1   AALL34.SA    110.725126      12.052433  10.889305        bom\n",
              "2    AZUL4.SA     37.020336       6.393181 -41.582037       ruim\n",
              "3      LTM.SN   1392.424313     458.679446 -82.631535       ruim\n",
              "4    GOLL4.SA     21.312941       3.042132 -37.154987       ruim\n",
              "5       LTMAY      1.871481       0.616098 -80.487805       ruim\n",
              "6       AF.PA     22.308272       2.488419 -25.295045       ruim\n",
              "7      C6L.SI      4.747566       0.333005   9.794997   razoavel\n",
              "8     SIA1.MU      2.913602       0.213398  17.537311  excelente\n",
              "9     SIA1.SG      2.881901       0.220604  19.615382  excelente\n",
              "10     SIA1.F      2.901902       0.221309  18.846154  excelente\n",
              "11     AFP.XC     44.394365       5.248348 -28.255770       ruim\n",
              "12  003490.KS  28849.445353    1995.676872   6.593328   razoavel\n",
              "13  003495.KS  39355.822029    2164.735137 -17.257142       ruim\n",
              "14     BCO.DE    190.456952      12.861335   2.012875   razoavel\n",
              "15      BCO.F    190.272154      12.966043  -1.895627       ruim\n",
              "16     AIR.PA    102.905718       8.283013  10.124247        bom\n",
              "17     AIR.DE    102.853608       8.305869  10.162164        bom\n",
              "18    AIRA.SG     25.457640       2.056771   6.837615   razoavel\n",
              "19    ADH2.SG     16.482000       1.481738  -5.586669       ruim"
            ],
            "text/html": [
              "\n",
              "  <div id=\"df-beee9b35-e2ae-424b-8942-0c8dfa96c820\" class=\"colab-df-container\">\n",
              "    <div>\n",
              "<style scoped>\n",
              "    .dataframe tbody tr th:only-of-type {\n",
              "        vertical-align: middle;\n",
              "    }\n",
              "\n",
              "    .dataframe tbody tr th {\n",
              "        vertical-align: top;\n",
              "    }\n",
              "\n",
              "    .dataframe thead th {\n",
              "        text-align: right;\n",
              "    }\n",
              "</style>\n",
              "<table border=\"1\" class=\"dataframe\">\n",
              "  <thead>\n",
              "    <tr style=\"text-align: right;\">\n",
              "      <th></th>\n",
              "      <th>nome</th>\n",
              "      <th>media</th>\n",
              "      <th>desvio padrao</th>\n",
              "      <th>retorno</th>\n",
              "      <th>avaliacao</th>\n",
              "    </tr>\n",
              "  </thead>\n",
              "  <tbody>\n",
              "    <tr>\n",
              "      <th>0</th>\n",
              "      <td>EMBR3.SA</td>\n",
              "      <td>18.155126</td>\n",
              "      <td>4.386199</td>\n",
              "      <td>92.226873</td>\n",
              "      <td>excelente</td>\n",
              "    </tr>\n",
              "    <tr>\n",
              "      <th>1</th>\n",
              "      <td>AALL34.SA</td>\n",
              "      <td>110.725126</td>\n",
              "      <td>12.052433</td>\n",
              "      <td>10.889305</td>\n",
              "      <td>bom</td>\n",
              "    </tr>\n",
              "    <tr>\n",
              "      <th>2</th>\n",
              "      <td>AZUL4.SA</td>\n",
              "      <td>37.020336</td>\n",
              "      <td>6.393181</td>\n",
              "      <td>-41.582037</td>\n",
              "      <td>ruim</td>\n",
              "    </tr>\n",
              "    <tr>\n",
              "      <th>3</th>\n",
              "      <td>LTM.SN</td>\n",
              "      <td>1392.424313</td>\n",
              "      <td>458.679446</td>\n",
              "      <td>-82.631535</td>\n",
              "      <td>ruim</td>\n",
              "    </tr>\n",
              "    <tr>\n",
              "      <th>4</th>\n",
              "      <td>GOLL4.SA</td>\n",
              "      <td>21.312941</td>\n",
              "      <td>3.042132</td>\n",
              "      <td>-37.154987</td>\n",
              "      <td>ruim</td>\n",
              "    </tr>\n",
              "    <tr>\n",
              "      <th>5</th>\n",
              "      <td>LTMAY</td>\n",
              "      <td>1.871481</td>\n",
              "      <td>0.616098</td>\n",
              "      <td>-80.487805</td>\n",
              "      <td>ruim</td>\n",
              "    </tr>\n",
              "    <tr>\n",
              "      <th>6</th>\n",
              "      <td>AF.PA</td>\n",
              "      <td>22.308272</td>\n",
              "      <td>2.488419</td>\n",
              "      <td>-25.295045</td>\n",
              "      <td>ruim</td>\n",
              "    </tr>\n",
              "    <tr>\n",
              "      <th>7</th>\n",
              "      <td>C6L.SI</td>\n",
              "      <td>4.747566</td>\n",
              "      <td>0.333005</td>\n",
              "      <td>9.794997</td>\n",
              "      <td>razoavel</td>\n",
              "    </tr>\n",
              "    <tr>\n",
              "      <th>8</th>\n",
              "      <td>SIA1.MU</td>\n",
              "      <td>2.913602</td>\n",
              "      <td>0.213398</td>\n",
              "      <td>17.537311</td>\n",
              "      <td>excelente</td>\n",
              "    </tr>\n",
              "    <tr>\n",
              "      <th>9</th>\n",
              "      <td>SIA1.SG</td>\n",
              "      <td>2.881901</td>\n",
              "      <td>0.220604</td>\n",
              "      <td>19.615382</td>\n",
              "      <td>excelente</td>\n",
              "    </tr>\n",
              "    <tr>\n",
              "      <th>10</th>\n",
              "      <td>SIA1.F</td>\n",
              "      <td>2.901902</td>\n",
              "      <td>0.221309</td>\n",
              "      <td>18.846154</td>\n",
              "      <td>excelente</td>\n",
              "    </tr>\n",
              "    <tr>\n",
              "      <th>11</th>\n",
              "      <td>AFP.XC</td>\n",
              "      <td>44.394365</td>\n",
              "      <td>5.248348</td>\n",
              "      <td>-28.255770</td>\n",
              "      <td>ruim</td>\n",
              "    </tr>\n",
              "    <tr>\n",
              "      <th>12</th>\n",
              "      <td>003490.KS</td>\n",
              "      <td>28849.445353</td>\n",
              "      <td>1995.676872</td>\n",
              "      <td>6.593328</td>\n",
              "      <td>razoavel</td>\n",
              "    </tr>\n",
              "    <tr>\n",
              "      <th>13</th>\n",
              "      <td>003495.KS</td>\n",
              "      <td>39355.822029</td>\n",
              "      <td>2164.735137</td>\n",
              "      <td>-17.257142</td>\n",
              "      <td>ruim</td>\n",
              "    </tr>\n",
              "    <tr>\n",
              "      <th>14</th>\n",
              "      <td>BCO.DE</td>\n",
              "      <td>190.456952</td>\n",
              "      <td>12.861335</td>\n",
              "      <td>2.012875</td>\n",
              "      <td>razoavel</td>\n",
              "    </tr>\n",
              "    <tr>\n",
              "      <th>15</th>\n",
              "      <td>BCO.F</td>\n",
              "      <td>190.272154</td>\n",
              "      <td>12.966043</td>\n",
              "      <td>-1.895627</td>\n",
              "      <td>ruim</td>\n",
              "    </tr>\n",
              "    <tr>\n",
              "      <th>16</th>\n",
              "      <td>AIR.PA</td>\n",
              "      <td>102.905718</td>\n",
              "      <td>8.283013</td>\n",
              "      <td>10.124247</td>\n",
              "      <td>bom</td>\n",
              "    </tr>\n",
              "    <tr>\n",
              "      <th>17</th>\n",
              "      <td>AIR.DE</td>\n",
              "      <td>102.853608</td>\n",
              "      <td>8.305869</td>\n",
              "      <td>10.162164</td>\n",
              "      <td>bom</td>\n",
              "    </tr>\n",
              "    <tr>\n",
              "      <th>18</th>\n",
              "      <td>AIRA.SG</td>\n",
              "      <td>25.457640</td>\n",
              "      <td>2.056771</td>\n",
              "      <td>6.837615</td>\n",
              "      <td>razoavel</td>\n",
              "    </tr>\n",
              "    <tr>\n",
              "      <th>19</th>\n",
              "      <td>ADH2.SG</td>\n",
              "      <td>16.482000</td>\n",
              "      <td>1.481738</td>\n",
              "      <td>-5.586669</td>\n",
              "      <td>ruim</td>\n",
              "    </tr>\n",
              "  </tbody>\n",
              "</table>\n",
              "</div>\n",
              "    <div class=\"colab-df-buttons\">\n",
              "\n",
              "  <div class=\"colab-df-container\">\n",
              "    <button class=\"colab-df-convert\" onclick=\"convertToInteractive('df-beee9b35-e2ae-424b-8942-0c8dfa96c820')\"\n",
              "            title=\"Convert this dataframe to an interactive table.\"\n",
              "            style=\"display:none;\">\n",
              "\n",
              "  <svg xmlns=\"http://www.w3.org/2000/svg\" height=\"24px\" viewBox=\"0 -960 960 960\">\n",
              "    <path d=\"M120-120v-720h720v720H120Zm60-500h600v-160H180v160Zm220 220h160v-160H400v160Zm0 220h160v-160H400v160ZM180-400h160v-160H180v160Zm440 0h160v-160H620v160ZM180-180h160v-160H180v160Zm440 0h160v-160H620v160Z\"/>\n",
              "  </svg>\n",
              "    </button>\n",
              "\n",
              "  <style>\n",
              "    .colab-df-container {\n",
              "      display:flex;\n",
              "      gap: 12px;\n",
              "    }\n",
              "\n",
              "    .colab-df-convert {\n",
              "      background-color: #E8F0FE;\n",
              "      border: none;\n",
              "      border-radius: 50%;\n",
              "      cursor: pointer;\n",
              "      display: none;\n",
              "      fill: #1967D2;\n",
              "      height: 32px;\n",
              "      padding: 0 0 0 0;\n",
              "      width: 32px;\n",
              "    }\n",
              "\n",
              "    .colab-df-convert:hover {\n",
              "      background-color: #E2EBFA;\n",
              "      box-shadow: 0px 1px 2px rgba(60, 64, 67, 0.3), 0px 1px 3px 1px rgba(60, 64, 67, 0.15);\n",
              "      fill: #174EA6;\n",
              "    }\n",
              "\n",
              "    .colab-df-buttons div {\n",
              "      margin-bottom: 4px;\n",
              "    }\n",
              "\n",
              "    [theme=dark] .colab-df-convert {\n",
              "      background-color: #3B4455;\n",
              "      fill: #D2E3FC;\n",
              "    }\n",
              "\n",
              "    [theme=dark] .colab-df-convert:hover {\n",
              "      background-color: #434B5C;\n",
              "      box-shadow: 0px 1px 3px 1px rgba(0, 0, 0, 0.15);\n",
              "      filter: drop-shadow(0px 1px 2px rgba(0, 0, 0, 0.3));\n",
              "      fill: #FFFFFF;\n",
              "    }\n",
              "  </style>\n",
              "\n",
              "    <script>\n",
              "      const buttonEl =\n",
              "        document.querySelector('#df-beee9b35-e2ae-424b-8942-0c8dfa96c820 button.colab-df-convert');\n",
              "      buttonEl.style.display =\n",
              "        google.colab.kernel.accessAllowed ? 'block' : 'none';\n",
              "\n",
              "      async function convertToInteractive(key) {\n",
              "        const element = document.querySelector('#df-beee9b35-e2ae-424b-8942-0c8dfa96c820');\n",
              "        const dataTable =\n",
              "          await google.colab.kernel.invokeFunction('convertToInteractive',\n",
              "                                                    [key], {});\n",
              "        if (!dataTable) return;\n",
              "\n",
              "        const docLinkHtml = 'Like what you see? Visit the ' +\n",
              "          '<a target=\"_blank\" href=https://colab.research.google.com/notebooks/data_table.ipynb>data table notebook</a>'\n",
              "          + ' to learn more about interactive tables.';\n",
              "        element.innerHTML = '';\n",
              "        dataTable['output_type'] = 'display_data';\n",
              "        await google.colab.output.renderOutput(dataTable, element);\n",
              "        const docLink = document.createElement('div');\n",
              "        docLink.innerHTML = docLinkHtml;\n",
              "        element.appendChild(docLink);\n",
              "      }\n",
              "    </script>\n",
              "  </div>\n",
              "\n",
              "\n",
              "<div id=\"df-70a9557b-4b7a-402e-b664-204b10d5cff9\">\n",
              "  <button class=\"colab-df-quickchart\" onclick=\"quickchart('df-70a9557b-4b7a-402e-b664-204b10d5cff9')\"\n",
              "            title=\"Suggest charts.\"\n",
              "            style=\"display:none;\">\n",
              "\n",
              "<svg xmlns=\"http://www.w3.org/2000/svg\" height=\"24px\"viewBox=\"0 0 24 24\"\n",
              "     width=\"24px\">\n",
              "    <g>\n",
              "        <path d=\"M19 3H5c-1.1 0-2 .9-2 2v14c0 1.1.9 2 2 2h14c1.1 0 2-.9 2-2V5c0-1.1-.9-2-2-2zM9 17H7v-7h2v7zm4 0h-2V7h2v10zm4 0h-2v-4h2v4z\"/>\n",
              "    </g>\n",
              "</svg>\n",
              "  </button>\n",
              "\n",
              "<style>\n",
              "  .colab-df-quickchart {\n",
              "      --bg-color: #E8F0FE;\n",
              "      --fill-color: #1967D2;\n",
              "      --hover-bg-color: #E2EBFA;\n",
              "      --hover-fill-color: #174EA6;\n",
              "      --disabled-fill-color: #AAA;\n",
              "      --disabled-bg-color: #DDD;\n",
              "  }\n",
              "\n",
              "  [theme=dark] .colab-df-quickchart {\n",
              "      --bg-color: #3B4455;\n",
              "      --fill-color: #D2E3FC;\n",
              "      --hover-bg-color: #434B5C;\n",
              "      --hover-fill-color: #FFFFFF;\n",
              "      --disabled-bg-color: #3B4455;\n",
              "      --disabled-fill-color: #666;\n",
              "  }\n",
              "\n",
              "  .colab-df-quickchart {\n",
              "    background-color: var(--bg-color);\n",
              "    border: none;\n",
              "    border-radius: 50%;\n",
              "    cursor: pointer;\n",
              "    display: none;\n",
              "    fill: var(--fill-color);\n",
              "    height: 32px;\n",
              "    padding: 0;\n",
              "    width: 32px;\n",
              "  }\n",
              "\n",
              "  .colab-df-quickchart:hover {\n",
              "    background-color: var(--hover-bg-color);\n",
              "    box-shadow: 0 1px 2px rgba(60, 64, 67, 0.3), 0 1px 3px 1px rgba(60, 64, 67, 0.15);\n",
              "    fill: var(--button-hover-fill-color);\n",
              "  }\n",
              "\n",
              "  .colab-df-quickchart-complete:disabled,\n",
              "  .colab-df-quickchart-complete:disabled:hover {\n",
              "    background-color: var(--disabled-bg-color);\n",
              "    fill: var(--disabled-fill-color);\n",
              "    box-shadow: none;\n",
              "  }\n",
              "\n",
              "  .colab-df-spinner {\n",
              "    border: 2px solid var(--fill-color);\n",
              "    border-color: transparent;\n",
              "    border-bottom-color: var(--fill-color);\n",
              "    animation:\n",
              "      spin 1s steps(1) infinite;\n",
              "  }\n",
              "\n",
              "  @keyframes spin {\n",
              "    0% {\n",
              "      border-color: transparent;\n",
              "      border-bottom-color: var(--fill-color);\n",
              "      border-left-color: var(--fill-color);\n",
              "    }\n",
              "    20% {\n",
              "      border-color: transparent;\n",
              "      border-left-color: var(--fill-color);\n",
              "      border-top-color: var(--fill-color);\n",
              "    }\n",
              "    30% {\n",
              "      border-color: transparent;\n",
              "      border-left-color: var(--fill-color);\n",
              "      border-top-color: var(--fill-color);\n",
              "      border-right-color: var(--fill-color);\n",
              "    }\n",
              "    40% {\n",
              "      border-color: transparent;\n",
              "      border-right-color: var(--fill-color);\n",
              "      border-top-color: var(--fill-color);\n",
              "    }\n",
              "    60% {\n",
              "      border-color: transparent;\n",
              "      border-right-color: var(--fill-color);\n",
              "    }\n",
              "    80% {\n",
              "      border-color: transparent;\n",
              "      border-right-color: var(--fill-color);\n",
              "      border-bottom-color: var(--fill-color);\n",
              "    }\n",
              "    90% {\n",
              "      border-color: transparent;\n",
              "      border-bottom-color: var(--fill-color);\n",
              "    }\n",
              "  }\n",
              "</style>\n",
              "\n",
              "  <script>\n",
              "    async function quickchart(key) {\n",
              "      const quickchartButtonEl =\n",
              "        document.querySelector('#' + key + ' button');\n",
              "      quickchartButtonEl.disabled = true;  // To prevent multiple clicks.\n",
              "      quickchartButtonEl.classList.add('colab-df-spinner');\n",
              "      try {\n",
              "        const charts = await google.colab.kernel.invokeFunction(\n",
              "            'suggestCharts', [key], {});\n",
              "      } catch (error) {\n",
              "        console.error('Error during call to suggestCharts:', error);\n",
              "      }\n",
              "      quickchartButtonEl.classList.remove('colab-df-spinner');\n",
              "      quickchartButtonEl.classList.add('colab-df-quickchart-complete');\n",
              "    }\n",
              "    (() => {\n",
              "      let quickchartButtonEl =\n",
              "        document.querySelector('#df-70a9557b-4b7a-402e-b664-204b10d5cff9 button');\n",
              "      quickchartButtonEl.style.display =\n",
              "        google.colab.kernel.accessAllowed ? 'block' : 'none';\n",
              "    })();\n",
              "  </script>\n",
              "</div>\n",
              "    </div>\n",
              "  </div>\n"
            ]
          },
          "metadata": {},
          "execution_count": 11
        }
      ]
    },
    {
      "cell_type": "markdown",
      "source": [
        "# **(0.1) Pre-Requisitos**"
      ],
      "metadata": {
        "id": "su23F3UiG34W"
      }
    },
    {
      "cell_type": "code",
      "execution_count": 12,
      "metadata": {
        "id": "rH1VMVp1GsHi"
      },
      "outputs": [],
      "source": [
        "!apt-get install openjdk-8-jdk-headless -qq > /dev/null\n",
        "!wget -q http://archive.apache.org/dist/spark/spark-3.1.1/spark-3.1.1-bin-hadoop3.2.tgz\n",
        "!tar xf spark-3.1.1-bin-hadoop3.2.tgz\n",
        "!pip install -q findspark"
      ]
    },
    {
      "cell_type": "markdown",
      "source": [
        "# **(0.2) Configuracao das Variaveis de Ambiente**"
      ],
      "metadata": {
        "id": "wKUQQwZBHGE5"
      }
    },
    {
      "cell_type": "code",
      "source": [
        "import os\n",
        "os.environ[\"JAVA_HOME\"] = \"/usr/lib/jvm/java-8-openjdk-amd64\"\n",
        "os.environ[\"SPARK_HOME\"] = \"/content/spark-3.1.1-bin-hadoop3.2\""
      ],
      "metadata": {
        "id": "PLLZ4ChcHIwa"
      },
      "execution_count": 13,
      "outputs": []
    },
    {
      "cell_type": "markdown",
      "source": [
        "# **01: Árvore de Classificação**"
      ],
      "metadata": {
        "id": "B5eNA0m6HLmJ"
      }
    },
    {
      "cell_type": "markdown",
      "source": [
        "**Iniciar Spark**"
      ],
      "metadata": {
        "id": "tAwl-4OpAqEK"
      }
    },
    {
      "cell_type": "code",
      "source": [
        "import findspark\n",
        "findspark.init()\n"
      ],
      "metadata": {
        "id": "BGRB89YGAsN6"
      },
      "execution_count": 14,
      "outputs": []
    },
    {
      "cell_type": "markdown",
      "source": [
        "**Importar os pacotes**"
      ],
      "metadata": {
        "id": "uNnTmUAHHt_Y"
      }
    },
    {
      "cell_type": "code",
      "source": [
        "from pyspark import SparkFiles\n",
        "from pyspark.sql import SparkSession\n",
        "from pyspark.ml import Pipeline\n",
        "from pyspark.ml.feature import StringIndexer, VectorAssembler, OneHotEncoder\n",
        "from pyspark.ml.classification import DecisionTreeClassifier\n",
        "from pyspark.ml.evaluation import MulticlassClassificationEvaluator"
      ],
      "metadata": {
        "id": "aUbV5JJVIVHY"
      },
      "execution_count": 15,
      "outputs": []
    },
    {
      "cell_type": "markdown",
      "source": [
        "**Iniciar a sessão Spark**"
      ],
      "metadata": {
        "id": "qNcwCDmBA4Ah"
      }
    },
    {
      "cell_type": "code",
      "source": [
        "spark = SparkSession.builder.appName(\"Decision Tree Model\").getOrCreate()"
      ],
      "metadata": {
        "id": "r3r7v4qPA6p6"
      },
      "execution_count": 16,
      "outputs": []
    },
    {
      "cell_type": "markdown",
      "source": [
        "**Carregar o conjunto de dados**"
      ],
      "metadata": {
        "id": "HBYVdC0vO8OX"
      }
    },
    {
      "cell_type": "code",
      "source": [
        "df = spark.createDataFrame(df_ativos_transformados)"
      ],
      "metadata": {
        "colab": {
          "base_uri": "https://localhost:8080/"
        },
        "id": "Vt1JM5HPnN9h",
        "outputId": "4a3712f8-0d81-4733-ccb5-0891b824e2e4"
      },
      "execution_count": null,
      "outputs": [
        {
          "output_type": "stream",
          "name": "stderr",
          "text": [
            "/content/spark-3.1.1-bin-hadoop3.2/python/pyspark/sql/pandas/conversion.py:331: FutureWarning: iteritems is deprecated and will be removed in a future version. Use .items instead.\n",
            "  for column, series in pdf.iteritems():\n"
          ]
        }
      ]
    },
    {
      "cell_type": "code",
      "source": [
        "df.show(5)"
      ],
      "metadata": {
        "colab": {
          "base_uri": "https://localhost:8080/"
        },
        "id": "77vIQ35tNxdO",
        "outputId": "90108662-e95f-41c6-a9c6-93eda4e72b9b"
      },
      "execution_count": null,
      "outputs": [
        {
          "output_type": "stream",
          "name": "stdout",
          "text": [
            "+---------+------------------+------------------+-------------------+---------+\n",
            "|     nome|             media|     desvio padrao|            retorno|avaliacao|\n",
            "+---------+------------------+------------------+-------------------+---------+\n",
            "| EMBR3.SA| 19.96647479177004|1.7214635708403923| -19.11764615650409|     ruim|\n",
            "|AALL34.SA|154.11615861282658|16.091351744940802|-26.529493239120665|     ruim|\n",
            "| AZUL4.SA|36.793522286511624| 10.08512311756919|   41.0810831430796|excelente|\n",
            "|   LTM.SN| 7532.650147970017|1207.7788019992968|   9.13714356711276| razoavel|\n",
            "| GOLL4.SA|23.615242902083917|  8.86935772804679|  39.18751333950436|excelente|\n",
            "+---------+------------------+------------------+-------------------+---------+\n",
            "only showing top 5 rows\n",
            "\n"
          ]
        }
      ]
    },
    {
      "cell_type": "markdown",
      "source": [
        "**Preparar os dados**"
      ],
      "metadata": {
        "id": "tHQxETPBN3mf"
      }
    },
    {
      "cell_type": "code",
      "source": [
        "# Convert the categorical labels in the 'avaliação' column to numerical values\n",
        "label_indexer = StringIndexer(inputCol=\"avaliacao\", outputCol=\"label\")\n",
        "data = label_indexer.fit(df).transform(df)\n",
        "\n",
        "# Assemble the feature columns into a single vector column\n",
        "assembler = VectorAssembler(inputCols=[\"media\", \"desvio padrao\", \"retorno\"], outputCol=\"features\")\n",
        "data = assembler.transform(data)\n",
        "\n",
        "# Split data into training and testing sets\n",
        "train_data, test_data = data.randomSplit([0.8, 0.2], seed=667)"
      ],
      "metadata": {
        "id": "FSXbeN5jN5Mp"
      },
      "execution_count": null,
      "outputs": []
    },
    {
      "cell_type": "markdown",
      "source": [
        "**Treinar o modelo de árvore de decisão**"
      ],
      "metadata": {
        "id": "SAiFt3KLN_1o"
      }
    },
    {
      "cell_type": "code",
      "source": [
        "dt_classifier = DecisionTreeClassifier(labelCol=\"label\", featuresCol=\"features\")\n",
        "\n",
        "model = dt_classifier.fit(train_data)"
      ],
      "metadata": {
        "id": "yfMbplzYOBnZ"
      },
      "execution_count": null,
      "outputs": []
    },
    {
      "cell_type": "markdown",
      "source": [
        "**Avaliar a qualidade da classificação com os dados de teste**"
      ],
      "metadata": {
        "id": "gbFlWfj1OIzg"
      }
    },
    {
      "cell_type": "code",
      "source": [
        "predictions = model.transform(test_data)\n",
        "\n",
        "evaluator = MulticlassClassificationEvaluator(labelCol=\"label\",\n",
        "                                              predictionCol=\"prediction\",\n",
        "                                              metricName=\"accuracy\")\n",
        "accuracy = evaluator.evaluate(predictions)\n",
        "\n",
        "print(f\"Test Accuracy: {accuracy:.2f}\")"
      ],
      "metadata": {
        "colab": {
          "base_uri": "https://localhost:8080/"
        },
        "id": "VfvO-I3GOKJA",
        "outputId": "1c5a1791-c8c4-48ad-eb90-f07b9d3a36fc"
      },
      "execution_count": null,
      "outputs": [
        {
          "output_type": "stream",
          "name": "stdout",
          "text": [
            "Test Accuracy: 0.75\n"
          ]
        }
      ]
    },
    {
      "cell_type": "markdown",
      "source": [
        " **Analisar a Importância de Cada Característica para Classificação**"
      ],
      "metadata": {
        "id": "W19a61yjOQWv"
      }
    },
    {
      "cell_type": "code",
      "source": [
        "feature_importance = model.featureImportances.toArray()\n",
        "\n",
        "# Show feature importance\n",
        "for i, column in enumerate(assembler.getInputCols()):\n",
        "    print(f\"Feature '{column}': {feature_importance[i]:.2f}\")"
      ],
      "metadata": {
        "colab": {
          "base_uri": "https://localhost:8080/"
        },
        "id": "jChiRptVOSMo",
        "outputId": "e5c45f79-6300-48c0-d1b6-6f531ecc4aa2"
      },
      "execution_count": null,
      "outputs": [
        {
          "output_type": "stream",
          "name": "stdout",
          "text": [
            "Feature 'media': 0.00\n",
            "Feature 'desvio padrao': 0.00\n",
            "Feature 'retorno': 1.00\n"
          ]
        }
      ]
    },
    {
      "cell_type": "markdown",
      "source": [
        "**Visualizar a Árvore de Decisão**"
      ],
      "metadata": {
        "id": "EG0TDtgaOXkY"
      }
    },
    {
      "cell_type": "code",
      "source": [
        "print(model.toDebugString)"
      ],
      "metadata": {
        "colab": {
          "base_uri": "https://localhost:8080/"
        },
        "id": "Q-4CUFiQOYWo",
        "outputId": "22482431-3f73-4c75-ef01-d2755fc9d3fc"
      },
      "execution_count": null,
      "outputs": [
        {
          "output_type": "stream",
          "name": "stdout",
          "text": [
            "DecisionTreeClassificationModel: uid=DecisionTreeClassifier_98566a64dc7d, depth=3, numNodes=7, numClasses=4, numFeatures=3\n",
            "  If (feature 2 <= 13.736542627419256)\n",
            "   If (feature 2 <= 0.7758092151603048)\n",
            "    Predict: 1.0\n",
            "   Else (feature 2 > 0.7758092151603048)\n",
            "    If (feature 2 <= 7.200364533930761)\n",
            "     Predict: 2.0\n",
            "    Else (feature 2 > 7.200364533930761)\n",
            "     Predict: 3.0\n",
            "  Else (feature 2 > 13.736542627419256)\n",
            "   Predict: 0.0\n",
            "\n"
          ]
        }
      ]
    },
    {
      "cell_type": "markdown",
      "source": [
        "**Salvar e  carregar o modelo (opcional)**"
      ],
      "metadata": {
        "id": "jpIWPIz1Ogug"
      }
    },
    {
      "cell_type": "code",
      "source": [
        "# Save the model\n",
        "model.save(\"Dtree_model\")\n",
        "\n",
        "# Load the model\n",
        "from pyspark.ml.classification import DecisionTreeClassificationModel\n",
        "loaded_model = DecisionTreeClassificationModel.load(\"Dtree_model\")"
      ],
      "metadata": {
        "id": "rM5gidCeOiPY"
      },
      "execution_count": null,
      "outputs": []
    },
    {
      "cell_type": "markdown",
      "source": [
        "**Fechar a Sessão Spark**"
      ],
      "metadata": {
        "id": "rg8vg-JXPLWo"
      }
    },
    {
      "cell_type": "code",
      "source": [
        "spark.stop()"
      ],
      "metadata": {
        "id": "3y59xHhMPLuA"
      },
      "execution_count": null,
      "outputs": []
    },
    {
      "cell_type": "markdown",
      "source": [
        "# **02: Clusterização**"
      ],
      "metadata": {
        "id": "cH2LnJcxCrdg"
      }
    },
    {
      "cell_type": "markdown",
      "source": [
        "**Iniciar a Sessão Spark**"
      ],
      "metadata": {
        "id": "g9EMN3V4DGO7"
      }
    },
    {
      "cell_type": "code",
      "source": [
        "import findspark\n",
        "findspark.init()\n",
        "from pyspark import SparkFiles\n",
        "from pyspark.sql import SparkSession\n",
        "\n",
        "from pyspark.ml.feature import VectorAssembler, StandardScaler\n",
        "from pyspark.ml.clustering import KMeans\n",
        "from pyspark.ml.evaluation import ClusteringEvaluator\n",
        "import matplotlib.pyplot as plt\n",
        "import pandas as pd\n",
        "\n",
        "spark = SparkSession.builder.appName(\"Mastering K-means Clustering with PySpark MLlib\").getOrCreate()"
      ],
      "metadata": {
        "id": "Hl9lZChGDK9v"
      },
      "execution_count": 17,
      "outputs": []
    },
    {
      "cell_type": "markdown",
      "source": [
        "**Carregar os dados**"
      ],
      "metadata": {
        "id": "tXau3ueMDQbm"
      }
    },
    {
      "cell_type": "code",
      "source": [
        "df = spark.createDataFrame(df_ativos_transformados)"
      ],
      "metadata": {
        "id": "oUE7gECEpTkY",
        "colab": {
          "base_uri": "https://localhost:8080/"
        },
        "outputId": "f5babbfa-046b-4c85-be24-c92de767ddd1"
      },
      "execution_count": 18,
      "outputs": [
        {
          "output_type": "stream",
          "name": "stderr",
          "text": [
            "/content/spark-3.1.1-bin-hadoop3.2/python/pyspark/sql/pandas/conversion.py:331: FutureWarning: iteritems is deprecated and will be removed in a future version. Use .items instead.\n",
            "  for column, series in pdf.iteritems():\n"
          ]
        }
      ]
    },
    {
      "cell_type": "code",
      "source": [
        "df.show(5)"
      ],
      "metadata": {
        "colab": {
          "base_uri": "https://localhost:8080/"
        },
        "id": "JVju0T_qDSdm",
        "outputId": "0d8881c5-3cb9-47d9-8712-847dfea4738c"
      },
      "execution_count": 19,
      "outputs": [
        {
          "output_type": "stream",
          "name": "stdout",
          "text": [
            "+---------+------------------+------------------+------------------+---------+\n",
            "|     nome|             media|     desvio padrao|           retorno|avaliacao|\n",
            "+---------+------------------+------------------+------------------+---------+\n",
            "| EMBR3.SA| 18.15512604272666| 4.386199455888439| 92.22687349911504|excelente|\n",
            "|AALL34.SA|110.72512637867646|12.052433162183076|10.889305022924662|      bom|\n",
            "| AZUL4.SA| 37.02033601488386| 6.393181304222187|-41.58203719931478|     ruim|\n",
            "|   LTM.SN| 1392.424313493784| 458.6794464119738| -82.6315354103412|     ruim|\n",
            "| GOLL4.SA|21.312941230645702|3.0421317028192933|-37.15498653841076|     ruim|\n",
            "+---------+------------------+------------------+------------------+---------+\n",
            "only showing top 5 rows\n",
            "\n"
          ]
        }
      ]
    },
    {
      "cell_type": "code",
      "source": [
        "#Print schema\n",
        "df.printSchema()\n"
      ],
      "metadata": {
        "colab": {
          "base_uri": "https://localhost:8080/"
        },
        "id": "w_XbKeqSPVjh",
        "outputId": "e9be6d1e-b309-48c8-b50e-dbdc0ef61a0b"
      },
      "execution_count": 20,
      "outputs": [
        {
          "output_type": "stream",
          "name": "stdout",
          "text": [
            "root\n",
            " |-- nome: string (nullable = true)\n",
            " |-- media: double (nullable = true)\n",
            " |-- desvio padrao: double (nullable = true)\n",
            " |-- retorno: double (nullable = true)\n",
            " |-- avaliacao: string (nullable = true)\n",
            "\n"
          ]
        }
      ]
    },
    {
      "cell_type": "markdown",
      "source": [
        "**Processar Dados**"
      ],
      "metadata": {
        "id": "24tWPSIcpstB"
      }
    },
    {
      "cell_type": "code",
      "source": [
        "# Assembling features into a single column\n",
        "assembler = VectorAssembler(inputCols=[\"media\", \"desvio padrao\", \"retorno\"],\n",
        "                            outputCol=\"features\")\n",
        "data_df = assembler.transform(df)\n",
        "\n",
        "# Scaling the features\n",
        "scaler = StandardScaler(inputCol=\"features\",\n",
        "                        outputCol=\"scaled_features\")\n",
        "scaler_model = scaler.fit(data_df)\n",
        "data_df = scaler_model.transform(data_df)\n",
        "\n",
        "data_df.show(5)"
      ],
      "metadata": {
        "colab": {
          "base_uri": "https://localhost:8080/"
        },
        "id": "8cgTaZb7k7g-",
        "outputId": "b908d330-321b-4e17-c86b-65c5022d04c5"
      },
      "execution_count": 21,
      "outputs": [
        {
          "output_type": "stream",
          "name": "stdout",
          "text": [
            "+---------+------------------+------------------+------------------+---------+--------------------+--------------------+\n",
            "|     nome|             media|     desvio padrao|           retorno|avaliacao|            features|     scaled_features|\n",
            "+---------+------------------+------------------+------------------+---------+--------------------+--------------------+\n",
            "| EMBR3.SA| 18.15512604272666| 4.386199455888439| 92.22687349911504|excelente|[18.1551260427266...|[0.00171278711951...|\n",
            "|AALL34.SA|110.72512637867646|12.052433162183076|10.889305022924662|      bom|[110.725126378676...|[0.01044600680941...|\n",
            "| AZUL4.SA| 37.02033601488386| 6.393181304222187|-41.58203719931478|     ruim|[37.0203360148838...|[0.00349256482919...|\n",
            "|   LTM.SN| 1392.424313493784| 458.6794464119738| -82.6315354103412|     ruim|[1392.42431349378...|[0.13136380454965...|\n",
            "| GOLL4.SA|21.312941230645702|3.0421317028192933|-37.15498653841076|     ruim|[21.3129412306457...|[0.00201070106221...|\n",
            "+---------+------------------+------------------+------------------+---------+--------------------+--------------------+\n",
            "only showing top 5 rows\n",
            "\n"
          ]
        }
      ]
    },
    {
      "cell_type": "markdown",
      "source": [
        "**Encontrar a Quantidade Ótima de Clusters**"
      ],
      "metadata": {
        "id": "GHoubCsypyvx"
      }
    },
    {
      "cell_type": "code",
      "source": [
        "# Computing WSSSE for K values from 2 to 8\n",
        "wssse_values =[]\n",
        "evaluator = ClusteringEvaluator(predictionCol='prediction', featuresCol='scaled_features', \\\n",
        "                                metricName='silhouette', distanceMeasure='squaredEuclidean')\n",
        "\n",
        "for i in range(2,8):\n",
        "    KMeans_mod = KMeans(featuresCol='scaled_features', k=i)\n",
        "    KMeans_fit = KMeans_mod.fit(data_df)\n",
        "    output = KMeans_fit.transform(data_df)\n",
        "    score = evaluator.evaluate(output)\n",
        "    wssse_values.append(score)\n",
        "    print(\"Silhouette Score:\",score)"
      ],
      "metadata": {
        "colab": {
          "base_uri": "https://localhost:8080/"
        },
        "id": "364530lZlsa9",
        "outputId": "6850eab5-28c5-428c-a838-9b484f249e18"
      },
      "execution_count": 22,
      "outputs": [
        {
          "output_type": "stream",
          "name": "stdout",
          "text": [
            "Silhouette Score: 0.9035635328568675\n",
            "Silhouette Score: 0.7564624732946281\n",
            "Silhouette Score: 0.7505545753461987\n",
            "Silhouette Score: 0.8475595987871444\n",
            "Silhouette Score: 0.7546281927380643\n",
            "Silhouette Score: 0.6700840812158219\n"
          ]
        }
      ]
    },
    {
      "cell_type": "markdown",
      "source": [
        "**Imprimir o gráfico**"
      ],
      "metadata": {
        "id": "zMEjfOlpp7To"
      }
    },
    {
      "cell_type": "code",
      "source": [
        "# Plotting WSSSE values\n",
        "plt.plot(range(1, 7), wssse_values)\n",
        "plt.xlabel('Number of Clusters (K)')\n",
        "plt.ylabel('Within Set Sum of Squared Errors (WSSSE)')\n",
        "plt.title('Elbow Method for Optimal K')\n",
        "plt.grid()\n",
        "plt.show()"
      ],
      "metadata": {
        "colab": {
          "base_uri": "https://localhost:8080/",
          "height": 472
        },
        "id": "Vd6ZXWrNp-EQ",
        "outputId": "8901c567-4ac8-4534-e24b-0c1ddcbe45c4"
      },
      "execution_count": 23,
      "outputs": [
        {
          "output_type": "display_data",
          "data": {
            "text/plain": [
              "<Figure size 640x480 with 1 Axes>"
            ],
            "image/png": "[encoded data removed]"
          },
          "metadata": {}
        }
      ]
    },
    {
      "cell_type": "markdown",
      "source": [
        "**Executar o K-Means**"
      ],
      "metadata": {
        "id": "gfyUSkhCqAgQ"
      }
    },
    {
      "cell_type": "code",
      "source": [
        "# Define the K-means clustering model\n",
        "kmeans = KMeans(k=4,\n",
        "                featuresCol=\"scaled_features\",\n",
        "                predictionCol=\"cluster\")\n",
        "kmeans_model = kmeans.fit(data_df)\n",
        "\n",
        "# Assigning the data points to clusters\n",
        "clustered_data = kmeans_model.transform(data_df)"
      ],
      "metadata": {
        "id": "6PdduhhNqDn4"
      },
      "execution_count": 24,
      "outputs": []
    },
    {
      "cell_type": "markdown",
      "source": [
        "**Avaliar o modelo**"
      ],
      "metadata": {
        "id": "qpGn2U35qFYI"
      }
    },
    {
      "cell_type": "code",
      "source": [
        "output = KMeans_fit.transform(data_df)\n",
        "wssse = evaluator.evaluate(output)\n",
        "print(f\"Within Set Sum of Squared Errors (WSSSE) = {wssse}\")"
      ],
      "metadata": {
        "colab": {
          "base_uri": "https://localhost:8080/"
        },
        "id": "mUOX1OxjqH3h",
        "outputId": "3739f3ea-ed16-4ab0-dd85-07ae9ca5d5af"
      },
      "execution_count": 25,
      "outputs": [
        {
          "output_type": "stream",
          "name": "stdout",
          "text": [
            "Within Set Sum of Squared Errors (WSSSE) = 0.6700840812158219\n"
          ]
        }
      ]
    },
    {
      "cell_type": "markdown",
      "source": [
        "**Visualizar os Resultados**"
      ],
      "metadata": {
        "id": "M2XrWUC3qLBX"
      }
    },
    {
      "cell_type": "code",
      "source": [
        "# Converting to Pandas DataFrame\n",
        "clustered_data_pd = clustered_data.toPandas()\n",
        "\n",
        "# Visualizing the results\n",
        "plt.scatter(#clustered_data_pd[\"media\"],\n",
        "            clustered_data_pd[\"desvio padrao\"],\n",
        "            clustered_data_pd[\"retorno\"],\n",
        "            c=clustered_data_pd[\"cluster\"],\n",
        "            cmap='viridis')\n",
        "plt.xlabel(\"desvio padrão\")\n",
        "plt.ylabel(\"retorno\")\n",
        "plt.title(\"K-means Clustering with PySpark MLlib\")\n",
        "plt.colorbar().set_label(\"Cluster\")\n",
        "plt.show()"
      ],
      "metadata": {
        "colab": {
          "base_uri": "https://localhost:8080/",
          "height": 472
        },
        "id": "2kPsgQisqL9n",
        "outputId": "37064635-6d5d-45a4-811f-db9048359433"
      },
      "execution_count": 26,
      "outputs": [
        {
          "output_type": "display_data",
          "data": {
            "text/plain": [
              "<Figure size 640x480 with 2 Axes>"
            ],
            "image/png": "[encoded data removed]"
          },
          "metadata": {}
        }
      ]
    },
    {
      "cell_type": "markdown",
      "source": [
        "**Fechar a Sessão Spark**"
      ],
      "metadata": {
        "id": "lUCeXFvHqYDQ"
      }
    },
    {
      "cell_type": "code",
      "source": [
        "spark.stop()"
      ],
      "metadata": {
        "id": "a1V9g1vdqadJ"
      },
      "execution_count": null,
      "outputs": []
    },
    {
      "cell_type": "markdown",
      "source": [
        "# **03: Regressão Linear**"
      ],
      "metadata": {
        "id": "EXnyTSA2qeKf"
      }
    },
    {
      "cell_type": "markdown",
      "source": [
        "**Importar e iniciar Spark**"
      ],
      "metadata": {
        "id": "K49Uf4YTrW73"
      }
    },
    {
      "cell_type": "code",
      "source": [
        "import findspark\n",
        "findspark.init()\n",
        "\n",
        "from pyspark.sql import SparkSession\n",
        "from pyspark import SparkFiles\n",
        "from pyspark.ml.regression import LinearRegression\n",
        "from pyspark.ml.feature import VectorAssembler\n",
        "from pyspark.ml.evaluation import RegressionEvaluator\n",
        "\n",
        "spark = SparkSession.builder \\\n",
        "    .appName(\"Linear Regression with PySpark MLlib\") \\\n",
        "    .getOrCreate()"
      ],
      "metadata": {
        "id": "8VWb3xWUrc7W"
      },
      "execution_count": null,
      "outputs": []
    },
    {
      "cell_type": "markdown",
      "source": [
        "**Carregar os dados**"
      ],
      "metadata": {
        "id": "6Lg5KBs2reoO"
      }
    },
    {
      "cell_type": "code",
      "source": [
        "df = spark.createDataFrame(df_ativos_transformados)"
      ],
      "metadata": {
        "colab": {
          "base_uri": "https://localhost:8080/"
        },
        "id": "iec8zNQTrF6U",
        "outputId": "ffb3e73b-3795-454c-eb11-419dcf2c3e53"
      },
      "execution_count": null,
      "outputs": [
        {
          "output_type": "stream",
          "name": "stderr",
          "text": [
            "/content/spark-3.1.1-bin-hadoop3.2/python/pyspark/sql/pandas/conversion.py:331: FutureWarning: iteritems is deprecated and will be removed in a future version. Use .items instead.\n",
            "  for column, series in pdf.iteritems():\n"
          ]
        }
      ]
    },
    {
      "cell_type": "code",
      "source": [
        "df.show(5)"
      ],
      "metadata": {
        "colab": {
          "base_uri": "https://localhost:8080/"
        },
        "id": "ycWKPArarhne",
        "outputId": "87fc31a4-271e-4cb8-ccef-be70191e1d1b"
      },
      "execution_count": null,
      "outputs": [
        {
          "output_type": "stream",
          "name": "stdout",
          "text": [
            "+--------+------------------+------------------+-------------------+---------+\n",
            "|    nome|             media|     desvio padrao|            retorno|avaliacao|\n",
            "+--------+------------------+------------------+-------------------+---------+\n",
            "|ABEV3.SA|14.294048038482666|0.7527090592642329|-12.295402865547423|     ruim|\n",
            "|AZUL4.SA| 18.76729996776581| 7.229579557764142| -61.64637310931158|     ruim|\n",
            "|B3SA3.SA|12.424586908340455|1.3506636516743074| -2.295204641142229|     ruim|\n",
            "|BBAS3.SA| 34.30561730194092| 6.851844224818951|  81.16952311653337|excelente|\n",
            "|BBDC3.SA| 13.85203917503357|1.2387044779053642| -18.89662933283917|     ruim|\n",
            "+--------+------------------+------------------+-------------------+---------+\n",
            "only showing top 5 rows\n",
            "\n"
          ]
        }
      ]
    },
    {
      "cell_type": "markdown",
      "source": [
        "**Preparar os dados**"
      ],
      "metadata": {
        "id": "ZJnwQxXRrkjG"
      }
    },
    {
      "cell_type": "code",
      "source": [
        "assembler = VectorAssembler(\n",
        "    inputCols=[\"media\", \"desvio padrao\"],\n",
        "    outputCol=\"features\")\n",
        "\n",
        "df = assembler.transform(df)\n",
        "final_data = df.select(\"features\", \"retorno\")\n",
        "\n",
        "train_data, test_data = final_data.randomSplit([0.8, 0.2], seed=667)"
      ],
      "metadata": {
        "id": "a-gl_Rj_rmtO"
      },
      "execution_count": null,
      "outputs": []
    },
    {
      "cell_type": "code",
      "source": [
        "df.show(5)"
      ],
      "metadata": {
        "colab": {
          "base_uri": "https://localhost:8080/"
        },
        "id": "-g0IAT4uwl71",
        "outputId": "e1b1c8e5-86c1-47b3-8997-f35b94ab411b"
      },
      "execution_count": null,
      "outputs": [
        {
          "output_type": "stream",
          "name": "stdout",
          "text": [
            "+--------+------------------+------------------+-------------------+---------+--------------------+\n",
            "|    nome|             media|     desvio padrao|            retorno|avaliacao|            features|\n",
            "+--------+------------------+------------------+-------------------+---------+--------------------+\n",
            "|ABEV3.SA|14.294048038482666|0.7527090592642329|-12.295402865547423|     ruim|[14.2940480384826...|\n",
            "|AZUL4.SA| 18.76729996776581| 7.229579557764142| -61.64637310931158|     ruim|[18.7672999677658...|\n",
            "|B3SA3.SA|12.424586908340455|1.3506636516743074| -2.295204641142229|     ruim|[12.4245869083404...|\n",
            "|BBAS3.SA| 34.30561730194092| 6.851844224818951|  81.16952311653337|excelente|[34.3056173019409...|\n",
            "|BBDC3.SA| 13.85203917503357|1.2387044779053642| -18.89662933283917|     ruim|[13.8520391750335...|\n",
            "+--------+------------------+------------------+-------------------+---------+--------------------+\n",
            "only showing top 5 rows\n",
            "\n"
          ]
        }
      ]
    },
    {
      "cell_type": "code",
      "source": [
        "train_data.show(5)"
      ],
      "metadata": {
        "colab": {
          "base_uri": "https://localhost:8080/"
        },
        "id": "p5i2Cel0-xRt",
        "outputId": "0a8d53fa-c20a-4fda-e79e-d129ab018918"
      },
      "execution_count": null,
      "outputs": [
        {
          "output_type": "stream",
          "name": "stdout",
          "text": [
            "+--------------------+-------------------+\n",
            "|            features|            retorno|\n",
            "+--------------------+-------------------+\n",
            "|[5.32562000989913...| -85.22483969286378|\n",
            "|[8.27509716320037...|   3.91466181602118|\n",
            "|[10.8681500368118...| 16.874460280635493|\n",
            "|[12.4245869083404...| -2.295204641142229|\n",
            "|[16.2879733295440...|-21.266956675314894|\n",
            "+--------------------+-------------------+\n",
            "only showing top 5 rows\n",
            "\n"
          ]
        }
      ]
    },
    {
      "cell_type": "code",
      "source": [
        "train_data.describe().show()"
      ],
      "metadata": {
        "colab": {
          "base_uri": "https://localhost:8080/"
        },
        "id": "nGiVBpTZ_EZG",
        "outputId": "0e7c0681-ecd9-4b6a-e53b-9a035a109e34"
      },
      "execution_count": null,
      "outputs": [
        {
          "output_type": "stream",
          "name": "stdout",
          "text": [
            "+-------+------------------+\n",
            "|summary|           retorno|\n",
            "+-------+------------------+\n",
            "|  count|                28|\n",
            "|   mean|1.5790399067329426|\n",
            "| stddev|   56.704127296855|\n",
            "|    min|-85.22483969286378|\n",
            "|    max| 182.1818059878641|\n",
            "+-------+------------------+\n",
            "\n"
          ]
        }
      ]
    },
    {
      "cell_type": "code",
      "source": [
        "type(train_data)"
      ],
      "metadata": {
        "colab": {
          "base_uri": "https://localhost:8080/"
        },
        "id": "a0IoikxR95m-",
        "outputId": "b2e9e0ab-3e7a-4adf-ad3b-9453aaaeeead"
      },
      "execution_count": null,
      "outputs": [
        {
          "output_type": "execute_result",
          "data": {
            "text/plain": [
              "pyspark.sql.dataframe.DataFrame"
            ]
          },
          "metadata": {},
          "execution_count": 44
        }
      ]
    },
    {
      "cell_type": "code",
      "source": [
        "train_data.count()"
      ],
      "metadata": {
        "colab": {
          "base_uri": "https://localhost:8080/"
        },
        "id": "MHnsINwOzOny",
        "outputId": "a340efb6-10c9-47ef-fdea-0550c255dcb2"
      },
      "execution_count": null,
      "outputs": [
        {
          "output_type": "execute_result",
          "data": {
            "text/plain": [
              "28"
            ]
          },
          "metadata": {},
          "execution_count": 45
        }
      ]
    },
    {
      "cell_type": "code",
      "source": [
        "test_data.count()"
      ],
      "metadata": {
        "colab": {
          "base_uri": "https://localhost:8080/"
        },
        "id": "ySwf87Wm0rNR",
        "outputId": "32ab09e1-1d41-4906-fbed-41cf435fcaed"
      },
      "execution_count": null,
      "outputs": [
        {
          "output_type": "execute_result",
          "data": {
            "text/plain": [
              "7"
            ]
          },
          "metadata": {},
          "execution_count": 46
        }
      ]
    },
    {
      "cell_type": "markdown",
      "source": [
        "**Construir o modelos de Regressão Linear**"
      ],
      "metadata": {
        "id": "em_HEpvsrs22"
      }
    },
    {
      "cell_type": "code",
      "source": [
        "lr = LinearRegression(featuresCol=\"features\",\n",
        "                      labelCol=\"retorno\",\n",
        "                      predictionCol=\"previsao\")\n",
        "lr_model = lr.fit(train_data)"
      ],
      "metadata": {
        "id": "jiyjPS0Mrwyn"
      },
      "execution_count": null,
      "outputs": []
    },
    {
      "cell_type": "code",
      "source": [
        "coefficients = lr_model.coefficients\n",
        "intercept = lr_model.intercept\n",
        "\n",
        "print(\"Coefficients: \", coefficients)\n",
        "print(\"Intercept: {:.3f}\".format(intercept))"
      ],
      "metadata": {
        "colab": {
          "base_uri": "https://localhost:8080/"
        },
        "id": "rdSZJmHd5MAS",
        "outputId": "2c81de5f-8fb3-4f20-f83f-d7c794605f90"
      },
      "execution_count": null,
      "outputs": [
        {
          "output_type": "stream",
          "name": "stdout",
          "text": [
            "Coefficients:  [1.70744583197624,-4.112660064182628]\n",
            "Intercept: -19.455\n"
          ]
        }
      ]
    },
    {
      "cell_type": "markdown",
      "source": [
        "**Realizar predições e avaliar o modelo**"
      ],
      "metadata": {
        "id": "tZDYyxnkry-2"
      }
    },
    {
      "cell_type": "code",
      "source": [
        "test_data.show(5)"
      ],
      "metadata": {
        "colab": {
          "base_uri": "https://localhost:8080/"
        },
        "id": "IwrmAM7k1ZvY",
        "outputId": "b08faf03-3381-4130-ed99-3704ff8b4727"
      },
      "execution_count": null,
      "outputs": [
        {
          "output_type": "stream",
          "name": "stdout",
          "text": [
            "+--------------------+-------------------+\n",
            "|            features|            retorno|\n",
            "+--------------------+-------------------+\n",
            "|[11.5495242872238...| -48.45413445387851|\n",
            "|[13.8520391750335...| -18.89662933283917|\n",
            "|[14.2940480384826...|-12.295402865547423|\n",
            "|[21.8712961177825...| 176.37006397490512|\n",
            "|[30.1973399581909...| 149.16800998414638|\n",
            "+--------------------+-------------------+\n",
            "only showing top 5 rows\n",
            "\n"
          ]
        }
      ]
    },
    {
      "cell_type": "code",
      "source": [
        "predictions = lr_model.transform(test_data)\n",
        "\n",
        "evaluator = RegressionEvaluator(labelCol=\"retorno\",\n",
        "                                predictionCol=\"previsao\",\n",
        "                                metricName=\"rmse\")\n",
        "rmse = evaluator.evaluate(predictions)\n",
        "print(\"Root Mean Squared Error (RMSE) on test data: {:.3f}\".format(rmse))\n",
        "\n",
        "evaluator_r2 = RegressionEvaluator(labelCol=\"retorno\",\n",
        "                                   predictionCol=\"previsao\",\n",
        "                                   metricName=\"r2\")\n",
        "r2 = evaluator_r2.evaluate(predictions)\n",
        "print(\"R-squared (R2) on test data: {:.3f}\".format(r2))"
      ],
      "metadata": {
        "colab": {
          "base_uri": "https://localhost:8080/"
        },
        "id": "y49X3kJNr5s-",
        "outputId": "6919d13d-faa3-4426-956e-52f29e4a42e5"
      },
      "execution_count": null,
      "outputs": [
        {
          "output_type": "stream",
          "name": "stdout",
          "text": [
            "Root Mean Squared Error (RMSE) on test data: 97.964\n",
            "R-squared (R2) on test data: -0.346\n"
          ]
        }
      ]
    },
    {
      "cell_type": "code",
      "source": [
        "predictions.show(5)"
      ],
      "metadata": {
        "colab": {
          "base_uri": "https://localhost:8080/"
        },
        "id": "JxkE39a11jjY",
        "outputId": "c52d6fd8-3929-459f-a214-dbb895cb04ba"
      },
      "execution_count": null,
      "outputs": [
        {
          "output_type": "stream",
          "name": "stdout",
          "text": [
            "+--------------------+-------------------+-------------------+\n",
            "|            features|            retorno|           previsao|\n",
            "+--------------------+-------------------+-------------------+\n",
            "|[11.5495242872238...| -48.45413445387851|-17.708743901307326|\n",
            "|[13.8520391750335...| -18.89662933283917|-0.8981237224769387|\n",
            "|[14.2940480384826...|-12.295402865547423|  1.855316418736873|\n",
            "|[21.8712961177825...| 176.37006397490512| -6.412033569391028|\n",
            "|[30.1973399581909...| 149.16800998414638| 1.2785436687354057|\n",
            "+--------------------+-------------------+-------------------+\n",
            "only showing top 5 rows\n",
            "\n"
          ]
        }
      ]
    },
    {
      "cell_type": "markdown",
      "source": [
        "**Analisar o modelo**"
      ],
      "metadata": {
        "id": "kXpgXjMSr81P"
      }
    },
    {
      "cell_type": "code",
      "source": [
        "coefficients = lr_model.coefficients\n",
        "intercept = lr_model.intercept\n",
        "\n",
        "print(\"Coefficients: \", coefficients)\n",
        "print(\"Intercept: {:.3f}\".format(intercept))"
      ],
      "metadata": {
        "colab": {
          "base_uri": "https://localhost:8080/"
        },
        "id": "XrCRuUG1sC3G",
        "outputId": "11f442fd-9684-436f-953b-029dbf70dad4"
      },
      "execution_count": null,
      "outputs": [
        {
          "output_type": "stream",
          "name": "stdout",
          "text": [
            "Coefficients:  [1.70744583197624,-4.112660064182628]\n",
            "Intercept: -19.455\n"
          ]
        }
      ]
    },
    {
      "cell_type": "markdown",
      "source": [
        "**Analisar a importância da característica**"
      ],
      "metadata": {
        "id": "mbUerbcqsD_D"
      }
    },
    {
      "cell_type": "code",
      "source": [
        "feature_importance = sorted(list(zip(data.columns[:-1], map(abs, coefficients))), key=lambda x: x[1], reverse=True)\n",
        "\n",
        "print(\"Feature Importance:\")\n",
        "for feature, importance in feature_importance:\n",
        "    print(\"  {}: {:.3f}\".format(feature, importance))"
      ],
      "metadata": {
        "colab": {
          "base_uri": "https://localhost:8080/"
        },
        "id": "A1zQngYVsHo_",
        "outputId": "40a9d07e-914b-4329-ffc7-218e506b3bec"
      },
      "execution_count": null,
      "outputs": [
        {
          "output_type": "stream",
          "name": "stdout",
          "text": [
            "Feature Importance:\n",
            "  media: 4.113\n",
            "  nome: 1.707\n"
          ]
        }
      ]
    },
    {
      "cell_type": "markdown",
      "source": [
        "**Salvar e carregar o modelo**"
      ],
      "metadata": {
        "id": "_DVrwmVfsLMN"
      }
    },
    {
      "cell_type": "code",
      "source": [
        "# Save the model\n",
        "lr_model.save(\"lr_model\")\n",
        "\n",
        "# Load the model\n",
        "from pyspark.ml.regression import LinearRegressionModel\n",
        "loaded_model = LinearRegressionModel.load(\"lr_model\")"
      ],
      "metadata": {
        "id": "kj4uTaWKsRtO"
      },
      "execution_count": null,
      "outputs": []
    },
    {
      "cell_type": "markdown",
      "source": [
        "**Fechar a Sessão Spark**"
      ],
      "metadata": {
        "id": "hOoP8PKcsScF"
      }
    },
    {
      "cell_type": "code",
      "source": [
        "spark.stop()"
      ],
      "metadata": {
        "id": "abHCWkBasXa9"
      },
      "execution_count": null,
      "outputs": []
    },
    {
      "cell_type": "markdown",
      "source": [
        "# **Exemplo Regressão Linear no ScikitLearn**"
      ],
      "metadata": {
        "id": "ChVubvTBRAvP"
      }
    },
    {
      "cell_type": "code",
      "source": [
        "# Code source: Jaques Grobler\n",
        "# License: BSD 3 clause\n",
        "\n",
        "import matplotlib.pyplot as plt\n",
        "import numpy as np\n",
        "\n",
        "from sklearn import datasets, linear_model\n",
        "from sklearn.metrics import mean_squared_error, r2_score\n",
        "\n",
        "# Load the diabetes dataset\n",
        "diabetes_X, diabetes_y = datasets.load_diabetes(return_X_y=True)\n",
        "\n",
        "# Use only one feature\n",
        "diabetes_X = diabetes_X[:, np.newaxis, 2]\n",
        "\n",
        "# Split the data into training/testing sets\n",
        "diabetes_X_train = diabetes_X[:-20]\n",
        "diabetes_X_test = diabetes_X[-20:]\n",
        "\n",
        "# Split the targets into training/testing sets\n",
        "diabetes_y_train = diabetes_y[:-20]\n",
        "diabetes_y_test = diabetes_y[-20:]\n",
        "\n",
        "# Create linear regression object\n",
        "regr = linear_model.LinearRegression()\n",
        "\n",
        "# Train the model using the training sets\n",
        "regr.fit(diabetes_X_train, diabetes_y_train)\n",
        "\n",
        "# Make predictions using the testing set\n",
        "diabetes_y_pred = regr.predict(diabetes_X_test)\n",
        "\n",
        "# The coefficients\n",
        "print(\"Coefficients: \\n\", regr.coef_)\n",
        "# The mean squared error\n",
        "print(\"Mean squared error: %.2f\" % mean_squared_error(diabetes_y_test, diabetes_y_pred))\n",
        "# The coefficient of determination: 1 is perfect prediction\n",
        "print(\"Coefficient of determination: %.2f\" % r2_score(diabetes_y_test, diabetes_y_pred))\n",
        "\n",
        "# Plot outputs\n",
        "plt.scatter(diabetes_X_test, diabetes_y_test, color=\"black\")\n",
        "plt.plot(diabetes_X_test, diabetes_y_pred, color=\"blue\", linewidth=3)\n",
        "\n",
        "plt.xticks(())\n",
        "plt.yticks(())\n",
        "\n",
        "plt.show()"
      ],
      "metadata": {
        "colab": {
          "base_uri": "https://localhost:8080/",
          "height": 475
        },
        "id": "BLIm6mq1RGKx",
        "outputId": "12281508-75e6-468c-a92a-758424b66519"
      },
      "execution_count": null,
      "outputs": [
        {
          "output_type": "stream",
          "name": "stdout",
          "text": [
            "Coefficients: \n",
            " [938.23786125]\n",
            "Mean squared error: 2548.07\n",
            "Coefficient of determination: 0.47\n"
          ]
        },
        {
          "output_type": "display_data",
          "data": {
            "text/plain": [
              "<Figure size 640x480 with 1 Axes>"
            ],
            "image/png": "[encoded data removed]"
          },
          "metadata": {}
        }
      ]
    },
    {
      "cell_type": "markdown",
      "source": [
        "# **Árvore de Decisão no ScikitLearn**"
      ],
      "metadata": {
        "id": "neNmullURZII"
      }
    },
    {
      "cell_type": "code",
      "source": [
        "# Import the necessary modules and libraries\n",
        "import matplotlib.pyplot as plt\n",
        "import numpy as np\n",
        "\n",
        "from sklearn.tree import DecisionTreeRegressor\n",
        "\n",
        "# Create a random dataset\n",
        "rng = np.random.RandomState(1)\n",
        "X = np.sort(5 * rng.rand(80, 1), axis=0)\n",
        "y = np.sin(X).ravel()\n",
        "y[::5] += 3 * (0.5 - rng.rand(16))\n",
        "\n",
        "# Fit regression model\n",
        "regr_1 = DecisionTreeRegressor(max_depth=2)\n",
        "regr_2 = DecisionTreeRegressor(max_depth=5)\n",
        "regr_1.fit(X, y)\n",
        "regr_2.fit(X, y)\n",
        "\n",
        "# Predict\n",
        "X_test = np.arange(0.0, 5.0, 0.01)[:, np.newaxis]\n",
        "y_1 = regr_1.predict(X_test)\n",
        "y_2 = regr_2.predict(X_test)\n",
        "\n",
        "# Plot the results\n",
        "plt.figure()\n",
        "plt.scatter(X, y, s=20, edgecolor=\"black\", c=\"darkorange\", label=\"data\")\n",
        "plt.plot(X_test, y_1, color=\"cornflowerblue\", label=\"max_depth=2\", linewidth=2)\n",
        "plt.plot(X_test, y_2, color=\"yellowgreen\", label=\"max_depth=5\", linewidth=2)\n",
        "plt.xlabel(\"data\")\n",
        "plt.ylabel(\"target\")\n",
        "plt.title(\"Decision Tree Regression\")\n",
        "plt.legend()\n",
        "plt.show()"
      ],
      "metadata": {
        "colab": {
          "base_uri": "https://localhost:8080/",
          "height": 472
        },
        "id": "0bO2flJYReCu",
        "outputId": "1b21c7d4-e809-4203-c0f3-d5921279cffd"
      },
      "execution_count": null,
      "outputs": [
        {
          "output_type": "display_data",
          "data": {
            "text/plain": [
              "<Figure size 640x480 with 1 Axes>"
            ],
            "image/png": "[encoded data removed]"
          },
          "metadata": {}
        }
      ]
    }
  ]
}